{
 "cells": [
  {
   "cell_type": "markdown",
   "id": "250aa29e",
   "metadata": {},
   "source": [
    "# Plotting chromosomes\n",
    "\n",
    "This guide shows how to plot idiograms of measured karyotypes and optionally marks. \n",
    "\n",
    "## Load package\n",
    "\n",
    "Visit the Introduction for installation instructions\n"
   ]
  },
  {
   "cell_type": "code",
   "execution_count": 1,
   "id": "64faa2cd",
   "metadata": {},
   "outputs": [
    {
     "name": "stderr",
     "output_type": "stream",
     "text": [
      "version 2.0.4 See help: ?idiogramFISH - browseVignettes('idiogramFISH') - https://ferroao.gitlab.io/manualidiogramfish\n",
      "\n"
     ]
    }
   ],
   "source": [
    "# install if missing\n",
    "if (system.file(package = \"idiogramFISH\") == '') {\n",
    "  install.packages(\"idiogramFISH\")\n",
    "}\n",
    "library(idiogramFISH)"
   ]
  },
  {
   "cell_type": "markdown",
   "id": "da4a3300",
   "metadata": {},
   "source": [
    "## Plot monocentrics\n",
    "\n",
    "Initially you have to put chromosome data in data.frames.\n",
    "\n",
    "Main three data.frames: \n",
    "\n",
    "* One for chr. sizes (parameter `dfChrSize`)\n",
    "* One for marks' positions  (parameter `dfMarkPos`)\n",
    "* One (optional) for mark style (parameter `dfMarkColor`)\n",
    "\n",
    "For a way to start with only one data.frame of chr. size and marks' pos., see Chapter 8.\n",
    "\n",
    "### data.frame of chr. size"
   ]
  }
 ],
 "metadata": {
  "kernelspec": {
   "display_name": "R",
   "language": "R",
   "name": "ir"
  },
  "language_info": {
   "codemirror_mode": "r",
   "file_extension": ".r",
   "mimetype": "text/x-r-source",
   "name": "R",
   "pygments_lexer": "r",
   "version": "4.0.5"
  }
 },
 "nbformat": 4,
 "nbformat_minor": 5
}
