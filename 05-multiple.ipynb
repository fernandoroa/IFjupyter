{
 "cells": [
  {
   "cell_type": "markdown",
   "id": "2f357230-4c9b-4ef7-8dcb-3aa19f0ab6c3",
   "metadata": {},
   "source": [
    "### Notebook index\n",
    "\n",
    "[3 Minimal examples](03-minimal.ipynb)  \n",
    "[4 Plotting chromosomes](04-plotting.ipynb)   \n",
    "[5 Multiple OTUs](05-multiple.ipynb)    \n",
    "[6 Changing units](06-units.ipynb)  \n",
    "[7 GISH](07-gish.ipynb)  \n",
    "[8 Groups](08-groups.ipynb)  \n",
    "[9 Circular Plots](09-circular.ipynb)  \n",
    "[10 Plotting alongside phylogeny](10-phylogeny.ipynb)  \n",
    "[11 Citrus](11-citrushelp.ipynb)  \n",
    "[12 Human Karyotype](12-human.ipynb)  "
   ]
  },
  {
   "cell_type": "markdown",
   "id": "1aefcaa0",
   "metadata": {},
   "source": [
    "# Multiple OTUs"
   ]
  },
  {
   "cell_type": "code",
   "execution_count": null,
   "id": "b658733f-2326-4eeb-9a35-a8b894fa53d9",
   "metadata": {},
   "outputs": [],
   "source": [
    "# General jupyter instructions"
   ]
  },
  {
   "cell_type": "code",
   "execution_count": null,
   "id": "6d7a89bc",
   "metadata": {
    "tags": []
   },
   "outputs": [],
   "source": [
    "# press Ctrl + Enter to RUN active cell\n",
    "\n",
    "# SHOW keyboard shortcuts Ctrl + M then H (only jupyter notebooks and colab)\n",
    "\n",
    "# Ctrl + D (or X) DELETE a line of code\n",
    "\n",
    "# press Ctrl + M to escape from cell (opposite to ENTER)\n",
    "\n",
    "# then !\n",
    "# B to ADD cell below or A above\n",
    "# M to turn code cell into MARKDOWN\n",
    "# Y turn markdown to CODE\n",
    "# O to toggle OUTPUT\n",
    "# D D to DELETE cell\n",
    "\n",
    "# If in jupyter-lab:\n",
    "# collapse cell clicking in the blue left bar\n",
    "# use the settings menu to use the dark theme\n",
    "\n",
    "# if in colab:\n",
    "# remove bar at 80 in tools, preferences, 80 -> 0"
   ]
  },
  {
   "cell_type": "code",
   "execution_count": null,
   "id": "0c6f043e-7370-4b39-bb18-dc31022b93e3",
   "metadata": {},
   "outputs": [],
   "source": [
    "# install if necessary\n",
    "\n",
    "if (system.file(package = \"idiogramFISH\") == '') {\n",
    "  install.packages(\"idiogramFISH\")\n",
    "}\n",
    "\n",
    "library(idiogramFISH)"
   ]
  },
  {
   "cell_type": "markdown",
   "id": "48a8f316",
   "metadata": {},
   "source": [
    "## Example with several species (OTUs) - mono.\n",
    "\n",
    "To illustrate this, we will load some data.frames from the package \n",
    "\n",
    "* Chromosome sizes "
   ]
  },
  {
   "cell_type": "code",
   "execution_count": 6,
   "id": "d52a442e",
   "metadata": {
    "attributes": {
     "classes": [],
     "eval": "F",
     "id": ""
    },
    "scrolled": true
   },
   "outputs": [
    {
     "data": {
      "text/html": [
       "<table class=\"dataframe\">\n",
       "<caption>A data.frame: 15 × 4</caption>\n",
       "<thead>\n",
       "\t<tr><th></th><th scope=col>OTU</th><th scope=col>chrName</th><th scope=col>shortArmSize</th><th scope=col>longArmSize</th></tr>\n",
       "\t<tr><th></th><th scope=col>&lt;chr&gt;</th><th scope=col>&lt;chr&gt;</th><th scope=col>&lt;dbl&gt;</th><th scope=col>&lt;dbl&gt;</th></tr>\n",
       "</thead>\n",
       "<tbody>\n",
       "\t<tr><th scope=row>1</th><td>Species 1</td><td>1</td><td>1.5</td><td>2.0</td></tr>\n",
       "\t<tr><th scope=row>2</th><td>Species 1</td><td>2</td><td>2.0</td><td>2.5</td></tr>\n",
       "\t<tr><th scope=row>3</th><td>Species 1</td><td>3</td><td>1.0</td><td>2.0</td></tr>\n",
       "\t<tr><th scope=row>4</th><td>Species 2</td><td>1</td><td>3.0</td><td>4.0</td></tr>\n",
       "\t<tr><th scope=row>5</th><td>Species 2</td><td>2</td><td>4.0</td><td>5.0</td></tr>\n",
       "\t<tr><th scope=row>6</th><td>Species 2</td><td>3</td><td>2.0</td><td>3.0</td></tr>\n",
       "\t<tr><th scope=row>7</th><td>Species 2</td><td>X</td><td>1.0</td><td>2.0</td></tr>\n",
       "\t<tr><th scope=row>8</th><td>Species 2</td><td>4</td><td>3.0</td><td>4.0</td></tr>\n",
       "\t<tr><th scope=row>9</th><td>Species 3</td><td>1</td><td>3.2</td><td>4.0</td></tr>\n",
       "\t<tr><th scope=row>10</th><td>Species 3</td><td>2</td><td>4.5</td><td>5.0</td></tr>\n",
       "\t<tr><th scope=row>11</th><td>Species 3</td><td>3</td><td>2.0</td><td>3.0</td></tr>\n",
       "\t<tr><th scope=row>12</th><td>Species 3</td><td>4</td><td>1.5</td><td>2.0</td></tr>\n",
       "\t<tr><th scope=row>13</th><td>Species 3</td><td>5</td><td>4.8</td><td>6.0</td></tr>\n",
       "\t<tr><th scope=row>14</th><td>Species 3</td><td>6</td><td>6.1</td><td>7.0</td></tr>\n",
       "\t<tr><th scope=row>15</th><td>Species 4</td><td>1</td><td>1.5</td><td>2.0</td></tr>\n",
       "</tbody>\n",
       "</table>\n"
      ],
      "text/latex": [
       "A data.frame: 15 × 4\n",
       "\\begin{tabular}{r|llll}\n",
       "  & OTU & chrName & shortArmSize & longArmSize\\\\\n",
       "  & <chr> & <chr> & <dbl> & <dbl>\\\\\n",
       "\\hline\n",
       "\t1 & Species 1 & 1 & 1.5 & 2.0\\\\\n",
       "\t2 & Species 1 & 2 & 2.0 & 2.5\\\\\n",
       "\t3 & Species 1 & 3 & 1.0 & 2.0\\\\\n",
       "\t4 & Species 2 & 1 & 3.0 & 4.0\\\\\n",
       "\t5 & Species 2 & 2 & 4.0 & 5.0\\\\\n",
       "\t6 & Species 2 & 3 & 2.0 & 3.0\\\\\n",
       "\t7 & Species 2 & X & 1.0 & 2.0\\\\\n",
       "\t8 & Species 2 & 4 & 3.0 & 4.0\\\\\n",
       "\t9 & Species 3 & 1 & 3.2 & 4.0\\\\\n",
       "\t10 & Species 3 & 2 & 4.5 & 5.0\\\\\n",
       "\t11 & Species 3 & 3 & 2.0 & 3.0\\\\\n",
       "\t12 & Species 3 & 4 & 1.5 & 2.0\\\\\n",
       "\t13 & Species 3 & 5 & 4.8 & 6.0\\\\\n",
       "\t14 & Species 3 & 6 & 6.1 & 7.0\\\\\n",
       "\t15 & Species 4 & 1 & 1.5 & 2.0\\\\\n",
       "\\end{tabular}\n"
      ],
      "text/markdown": [
       "\n",
       "A data.frame: 15 × 4\n",
       "\n",
       "| <!--/--> | OTU &lt;chr&gt; | chrName &lt;chr&gt; | shortArmSize &lt;dbl&gt; | longArmSize &lt;dbl&gt; |\n",
       "|---|---|---|---|---|\n",
       "| 1 | Species 1 | 1 | 1.5 | 2.0 |\n",
       "| 2 | Species 1 | 2 | 2.0 | 2.5 |\n",
       "| 3 | Species 1 | 3 | 1.0 | 2.0 |\n",
       "| 4 | Species 2 | 1 | 3.0 | 4.0 |\n",
       "| 5 | Species 2 | 2 | 4.0 | 5.0 |\n",
       "| 6 | Species 2 | 3 | 2.0 | 3.0 |\n",
       "| 7 | Species 2 | X | 1.0 | 2.0 |\n",
       "| 8 | Species 2 | 4 | 3.0 | 4.0 |\n",
       "| 9 | Species 3 | 1 | 3.2 | 4.0 |\n",
       "| 10 | Species 3 | 2 | 4.5 | 5.0 |\n",
       "| 11 | Species 3 | 3 | 2.0 | 3.0 |\n",
       "| 12 | Species 3 | 4 | 1.5 | 2.0 |\n",
       "| 13 | Species 3 | 5 | 4.8 | 6.0 |\n",
       "| 14 | Species 3 | 6 | 6.1 | 7.0 |\n",
       "| 15 | Species 4 | 1 | 1.5 | 2.0 |\n",
       "\n"
      ],
      "text/plain": [
       "   OTU       chrName shortArmSize longArmSize\n",
       "1  Species 1 1       1.5          2.0        \n",
       "2  Species 1 2       2.0          2.5        \n",
       "3  Species 1 3       1.0          2.0        \n",
       "4  Species 2 1       3.0          4.0        \n",
       "5  Species 2 2       4.0          5.0        \n",
       "6  Species 2 3       2.0          3.0        \n",
       "7  Species 2 X       1.0          2.0        \n",
       "8  Species 2 4       3.0          4.0        \n",
       "9  Species 3 1       3.2          4.0        \n",
       "10 Species 3 2       4.5          5.0        \n",
       "11 Species 3 3       2.0          3.0        \n",
       "12 Species 3 4       1.5          2.0        \n",
       "13 Species 3 5       4.8          6.0        \n",
       "14 Species 3 6       6.1          7.0        \n",
       "15 Species 4 1       1.5          2.0        "
      ]
     },
     "metadata": {},
     "output_type": "display_data"
    }
   ],
   "source": [
    "head(bigdfOfChrSize,15)"
   ]
  },
  {
   "cell_type": "markdown",
   "id": "732daeef",
   "metadata": {},
   "source": [
    "</div>\n",
    "\n",
    "<div class=\"verysmall\">"
   ]
  },
  {
   "cell_type": "markdown",
   "id": "c18156df",
   "metadata": {},
   "source": [
    "* Mark characteristics, does not require OTU "
   ]
  },
  {
   "cell_type": "code",
   "execution_count": 4,
   "id": "6b662a00",
   "metadata": {
    "attributes": {
     "classes": [],
     "id": "",
     "width": "45"
    }
   },
   "outputs": [
    {
     "data": {
      "text/html": [
       "<table class=\"dataframe\">\n",
       "<caption>A data.frame: 4 × 3</caption>\n",
       "<thead>\n",
       "\t<tr><th scope=col>markName</th><th scope=col>markColor</th><th scope=col>style</th></tr>\n",
       "\t<tr><th scope=col>&lt;chr&gt;</th><th scope=col>&lt;chr&gt;</th><th scope=col>&lt;chr&gt;</th></tr>\n",
       "</thead>\n",
       "<tbody>\n",
       "\t<tr><td>5S  </td><td>red           </td><td>dots  </td></tr>\n",
       "\t<tr><td>45S </td><td>chartreuse3   </td><td>square</td></tr>\n",
       "\t<tr><td>DAPI</td><td>blue          </td><td>square</td></tr>\n",
       "\t<tr><td>CMA </td><td>darkgoldenrod1</td><td>square</td></tr>\n",
       "</tbody>\n",
       "</table>\n"
      ],
      "text/latex": [
       "A data.frame: 4 × 3\n",
       "\\begin{tabular}{lll}\n",
       " markName & markColor & style\\\\\n",
       " <chr> & <chr> & <chr>\\\\\n",
       "\\hline\n",
       "\t 5S   & red            & dots  \\\\\n",
       "\t 45S  & chartreuse3    & square\\\\\n",
       "\t DAPI & blue           & square\\\\\n",
       "\t CMA  & darkgoldenrod1 & square\\\\\n",
       "\\end{tabular}\n"
      ],
      "text/markdown": [
       "\n",
       "A data.frame: 4 × 3\n",
       "\n",
       "| markName &lt;chr&gt; | markColor &lt;chr&gt; | style &lt;chr&gt; |\n",
       "|---|---|---|\n",
       "| 5S   | red            | dots   |\n",
       "| 45S  | chartreuse3    | square |\n",
       "| DAPI | blue           | square |\n",
       "| CMA  | darkgoldenrod1 | square |\n",
       "\n"
      ],
      "text/plain": [
       "  markName markColor      style \n",
       "1 5S       red            dots  \n",
       "2 45S      chartreuse3    square\n",
       "3 DAPI     blue           square\n",
       "4 CMA      darkgoldenrod1 square"
      ]
     },
     "metadata": {},
     "output_type": "display_data"
    }
   ],
   "source": [
    "dfMarkColor"
   ]
  },
  {
   "cell_type": "markdown",
   "id": "bf6473fb",
   "metadata": {},
   "source": [
    "</div>\n",
    "\n",
    "<div class=\"verysmall\">"
   ]
  },
  {
   "cell_type": "markdown",
   "id": "c9fe23ef",
   "metadata": {},
   "source": [
    "</div>\n",
    "\n",
    "* Mark position\n",
    "\n",
    "<div class=\"pre-scrollx\">"
   ]
  },
  {
   "cell_type": "code",
   "execution_count": 5,
   "id": "00cd91fa",
   "metadata": {},
   "outputs": [
    {
     "data": {
      "text/html": [
       "<table class=\"dataframe\">\n",
       "<caption>A data.frame: 12 × 6</caption>\n",
       "<thead>\n",
       "\t<tr><th></th><th scope=col>OTU</th><th scope=col>chrName</th><th scope=col>markName</th><th scope=col>chrRegion</th><th scope=col>markDistCen</th><th scope=col>markSize</th></tr>\n",
       "\t<tr><th></th><th scope=col>&lt;chr&gt;</th><th scope=col>&lt;chr&gt;</th><th scope=col>&lt;chr&gt;</th><th scope=col>&lt;chr&gt;</th><th scope=col>&lt;dbl&gt;</th><th scope=col>&lt;dbl&gt;</th></tr>\n",
       "</thead>\n",
       "<tbody>\n",
       "\t<tr><th scope=row>1</th><td>Species 1</td><td>1</td><td>5S  </td><td>p  </td><td>0.5</td><td> 1</td></tr>\n",
       "\t<tr><th scope=row>2</th><td>Species 1</td><td>1</td><td>45S </td><td>q  </td><td>0.5</td><td> 1</td></tr>\n",
       "\t<tr><th scope=row>3</th><td>Species 1</td><td>2</td><td>45S </td><td>p  </td><td>1.0</td><td> 1</td></tr>\n",
       "\t<tr><th scope=row>4</th><td>Species 1</td><td>3</td><td>DAPI</td><td>q  </td><td>1.0</td><td> 1</td></tr>\n",
       "\t<tr><th scope=row>5</th><td>Species 3</td><td>3</td><td>5S  </td><td>p  </td><td>1.0</td><td> 1</td></tr>\n",
       "\t<tr><th scope=row>6</th><td>Species 3</td><td>3</td><td>DAPI</td><td>q  </td><td>1.0</td><td> 1</td></tr>\n",
       "\t<tr><th scope=row>7</th><td>Species 3</td><td>4</td><td>45S </td><td>p  </td><td> NA</td><td>NA</td></tr>\n",
       "\t<tr><th scope=row>8</th><td>Species 3</td><td>4</td><td>DAPI</td><td>q  </td><td>1.0</td><td> 1</td></tr>\n",
       "\t<tr><th scope=row>9</th><td>Species 3</td><td>5</td><td>CMA </td><td>q  </td><td>2.0</td><td> 1</td></tr>\n",
       "\t<tr><th scope=row>10</th><td>Species 3</td><td>6</td><td>5S  </td><td>q  </td><td>0.5</td><td> 1</td></tr>\n",
       "\t<tr><th scope=row>11</th><td>Species 2</td><td>1</td><td>DAPI</td><td>cen</td><td> NA</td><td>NA</td></tr>\n",
       "\t<tr><th scope=row>12</th><td>Species 2</td><td>4</td><td>CMA </td><td>cen</td><td> NA</td><td>NA</td></tr>\n",
       "</tbody>\n",
       "</table>\n"
      ],
      "text/latex": [
       "A data.frame: 12 × 6\n",
       "\\begin{tabular}{r|llllll}\n",
       "  & OTU & chrName & markName & chrRegion & markDistCen & markSize\\\\\n",
       "  & <chr> & <chr> & <chr> & <chr> & <dbl> & <dbl>\\\\\n",
       "\\hline\n",
       "\t1 & Species 1 & 1 & 5S   & p   & 0.5 &  1\\\\\n",
       "\t2 & Species 1 & 1 & 45S  & q   & 0.5 &  1\\\\\n",
       "\t3 & Species 1 & 2 & 45S  & p   & 1.0 &  1\\\\\n",
       "\t4 & Species 1 & 3 & DAPI & q   & 1.0 &  1\\\\\n",
       "\t5 & Species 3 & 3 & 5S   & p   & 1.0 &  1\\\\\n",
       "\t6 & Species 3 & 3 & DAPI & q   & 1.0 &  1\\\\\n",
       "\t7 & Species 3 & 4 & 45S  & p   &  NA & NA\\\\\n",
       "\t8 & Species 3 & 4 & DAPI & q   & 1.0 &  1\\\\\n",
       "\t9 & Species 3 & 5 & CMA  & q   & 2.0 &  1\\\\\n",
       "\t10 & Species 3 & 6 & 5S   & q   & 0.5 &  1\\\\\n",
       "\t11 & Species 2 & 1 & DAPI & cen &  NA & NA\\\\\n",
       "\t12 & Species 2 & 4 & CMA  & cen &  NA & NA\\\\\n",
       "\\end{tabular}\n"
      ],
      "text/markdown": [
       "\n",
       "A data.frame: 12 × 6\n",
       "\n",
       "| <!--/--> | OTU &lt;chr&gt; | chrName &lt;chr&gt; | markName &lt;chr&gt; | chrRegion &lt;chr&gt; | markDistCen &lt;dbl&gt; | markSize &lt;dbl&gt; |\n",
       "|---|---|---|---|---|---|---|\n",
       "| 1 | Species 1 | 1 | 5S   | p   | 0.5 |  1 |\n",
       "| 2 | Species 1 | 1 | 45S  | q   | 0.5 |  1 |\n",
       "| 3 | Species 1 | 2 | 45S  | p   | 1.0 |  1 |\n",
       "| 4 | Species 1 | 3 | DAPI | q   | 1.0 |  1 |\n",
       "| 5 | Species 3 | 3 | 5S   | p   | 1.0 |  1 |\n",
       "| 6 | Species 3 | 3 | DAPI | q   | 1.0 |  1 |\n",
       "| 7 | Species 3 | 4 | 45S  | p   |  NA | NA |\n",
       "| 8 | Species 3 | 4 | DAPI | q   | 1.0 |  1 |\n",
       "| 9 | Species 3 | 5 | CMA  | q   | 2.0 |  1 |\n",
       "| 10 | Species 3 | 6 | 5S   | q   | 0.5 |  1 |\n",
       "| 11 | Species 2 | 1 | DAPI | cen |  NA | NA |\n",
       "| 12 | Species 2 | 4 | CMA  | cen |  NA | NA |\n",
       "\n"
      ],
      "text/plain": [
       "   OTU       chrName markName chrRegion markDistCen markSize\n",
       "1  Species 1 1       5S       p         0.5          1      \n",
       "2  Species 1 1       45S      q         0.5          1      \n",
       "3  Species 1 2       45S      p         1.0          1      \n",
       "4  Species 1 3       DAPI     q         1.0          1      \n",
       "5  Species 3 3       5S       p         1.0          1      \n",
       "6  Species 3 3       DAPI     q         1.0          1      \n",
       "7  Species 3 4       45S      p          NA         NA      \n",
       "8  Species 3 4       DAPI     q         1.0          1      \n",
       "9  Species 3 5       CMA      q         2.0          1      \n",
       "10 Species 3 6       5S       q         0.5          1      \n",
       "11 Species 2 1       DAPI     cen        NA         NA      \n",
       "12 Species 2 4       CMA      cen        NA         NA      "
      ]
     },
     "metadata": {},
     "output_type": "display_data"
    }
   ],
   "source": [
    "bigdfOfMarks"
   ]
  },
  {
   "cell_type": "markdown",
   "id": "2fd87c52",
   "metadata": {},
   "source": [
    "</div>\n",
    "\n",
    "<div class=\"verysmall\">"
   ]
  },
  {
   "cell_type": "markdown",
   "id": "374a0e97",
   "metadata": {},
   "source": [
    "### Plotting"
   ]
  },
  {
   "cell_type": "code",
   "execution_count": 12,
   "id": "7793279e",
   "metadata": {
    "attributes": {
     "classes": [],
     "dev": "'png'",
     "echo": "TRUE,",
     "fig.height": "13,",
     "fig.width": "6,",
     "id": "",
     "message": "FALSE,",
     "results": "\"hide\","
    }
   },
   "outputs": [
    {
     "data": {
      "image/png": "[encoded data removed]",
      "text/plain": [
       "plot without title"
      ]
     },
     "metadata": {
      "image/png": {
       "height": 625,
       "width": 312.5
      }
     },
     "output_type": "display_data"
    }
   ],
   "source": [
    "# png(\"bigdfOfChrSize.png\", width=650, height=1300)\n",
    "par(mar = c(0, 0, 0, 0))\n",
    "\n",
    "options(repr.plot.width = 500/80, repr.plot.height = 1000/80, repr.plot.res = 100)\n",
    "suppressMessages(\n",
    "plotIdiograms(dfChrSize  =bigdfOfChrSize,# chr. sizes\n",
    "              dfMarkColor=dfMarkColor,   # mark characteristics, optional in dev version. see above. \n",
    "              dfMarkPos  =bigdfOfMarks,  # mark positions (inc. cen. marks)\n",
    "\n",
    "              karHeight=2.5,             # karyotype rel. height\n",
    "              karHeiSpace=6,             # karyotype vertical size with spacing\n",
    "              chrWidth = .35,            # chr. width\n",
    "              amoSepar = 2,              # Vertical separation of kar. when karSepar = TRUE\n",
    "              \n",
    "              squareness = 4,            # squareness of chr. vertices\n",
    "              distTextChr=.8,            # distance of chr. to text\n",
    "              chrIndex = \"AR\",           # add arm ratio only. For v. >=1.12\n",
    "              nameChrIndexPos = 3,\n",
    "              morpho=\"Guerra\",           # add chr. morphology by Guerra, see above. For v. >=1.12\n",
    "              indexIdTextSize=.6,        # font size of indices and chr. name\n",
    "              OTUTextSize=.9,            # font size of OTU names\n",
    "              \n",
    "              markLabelSize=.7,          # font size of legend\n",
    "              fixCenBorder = TRUE,       # use chrColor as border color of cen. or cen. marks\n",
    "              legendHeight = 2,          # height of labels\n",
    "              \n",
    "              rulerPos=-1,               # position of ruler\n",
    "              ruler.tck=-0.004,          # size and orient. of ticks in ruler\n",
    "              rulerNumberPos=.4,         # position of numbers of ruler\n",
    "              rulerNumberSize=.4,        # font size of ruler\n",
    "              xPosRulerTitle = 5,        # ruler units pos.\n",
    "              rulerTitleSize=.5,         # ruler font size of units (title)\n",
    "\n",
    "              xlimRightMod = 3,          # modify xlim left argument \n",
    "              xlimLeftMod = 2,           # modify xlim left argument \n",
    "              ylimBotMod = 0,            # modify ylim bottom argument\n",
    "              ylimTopMod = -.3           # modify ylim top argument\n",
    ")\n",
    ")\n",
    "# dev.off() # for png()"
   ]
  },
  {
   "cell_type": "markdown",
   "id": "adc8eb33",
   "metadata": {},
   "source": [
    "</div>"
   ]
  },
  {
   "cell_type": "markdown",
   "id": "00ab5acb",
   "metadata": {},
   "source": [
    "## Example with several species (OTUs) - holo.\n",
    "\n",
    "To illustrate this, we will load some data.frames from the package \n",
    "\n",
    "* Chromosome sizes"
   ]
  },
  {
   "cell_type": "code",
   "execution_count": 13,
   "id": "5ad646d2",
   "metadata": {},
   "outputs": [
    {
     "data": {
      "text/html": [
       "<table class=\"dataframe\">\n",
       "<caption>A data.frame: 12 × 3</caption>\n",
       "<thead>\n",
       "\t<tr><th scope=col>OTU</th><th scope=col>chrName</th><th scope=col>chrSize</th></tr>\n",
       "\t<tr><th scope=col>&lt;chr&gt;</th><th scope=col>&lt;dbl&gt;</th><th scope=col>&lt;dbl&gt;</th></tr>\n",
       "</thead>\n",
       "<tbody>\n",
       "\t<tr><td>species one  </td><td>1</td><td>5.1</td></tr>\n",
       "\t<tr><td>species one  </td><td>2</td><td>5.0</td></tr>\n",
       "\t<tr><td>species one  </td><td>3</td><td>4.9</td></tr>\n",
       "\t<tr><td>species one  </td><td>4</td><td>5.2</td></tr>\n",
       "\t<tr><td>species two  </td><td>1</td><td>3.0</td></tr>\n",
       "\t<tr><td>species two  </td><td>2</td><td>4.0</td></tr>\n",
       "\t<tr><td>species two  </td><td>3</td><td>2.0</td></tr>\n",
       "\t<tr><td>species two  </td><td>4</td><td>5.0</td></tr>\n",
       "\t<tr><td>species three</td><td>1</td><td>1.5</td></tr>\n",
       "\t<tr><td>species three</td><td>2</td><td>2.0</td></tr>\n",
       "\t<tr><td>species three</td><td>3</td><td>6.0</td></tr>\n",
       "\t<tr><td>species three</td><td>4</td><td>8.0</td></tr>\n",
       "</tbody>\n",
       "</table>\n"
      ],
      "text/latex": [
       "A data.frame: 12 × 3\n",
       "\\begin{tabular}{lll}\n",
       " OTU & chrName & chrSize\\\\\n",
       " <chr> & <dbl> & <dbl>\\\\\n",
       "\\hline\n",
       "\t species one   & 1 & 5.1\\\\\n",
       "\t species one   & 2 & 5.0\\\\\n",
       "\t species one   & 3 & 4.9\\\\\n",
       "\t species one   & 4 & 5.2\\\\\n",
       "\t species two   & 1 & 3.0\\\\\n",
       "\t species two   & 2 & 4.0\\\\\n",
       "\t species two   & 3 & 2.0\\\\\n",
       "\t species two   & 4 & 5.0\\\\\n",
       "\t species three & 1 & 1.5\\\\\n",
       "\t species three & 2 & 2.0\\\\\n",
       "\t species three & 3 & 6.0\\\\\n",
       "\t species three & 4 & 8.0\\\\\n",
       "\\end{tabular}\n"
      ],
      "text/markdown": [
       "\n",
       "A data.frame: 12 × 3\n",
       "\n",
       "| OTU &lt;chr&gt; | chrName &lt;dbl&gt; | chrSize &lt;dbl&gt; |\n",
       "|---|---|---|\n",
       "| species one   | 1 | 5.1 |\n",
       "| species one   | 2 | 5.0 |\n",
       "| species one   | 3 | 4.9 |\n",
       "| species one   | 4 | 5.2 |\n",
       "| species two   | 1 | 3.0 |\n",
       "| species two   | 2 | 4.0 |\n",
       "| species two   | 3 | 2.0 |\n",
       "| species two   | 4 | 5.0 |\n",
       "| species three | 1 | 1.5 |\n",
       "| species three | 2 | 2.0 |\n",
       "| species three | 3 | 6.0 |\n",
       "| species three | 4 | 8.0 |\n",
       "\n"
      ],
      "text/plain": [
       "   OTU           chrName chrSize\n",
       "1  species one   1       5.1    \n",
       "2  species one   2       5.0    \n",
       "3  species one   3       4.9    \n",
       "4  species one   4       5.2    \n",
       "5  species two   1       3.0    \n",
       "6  species two   2       4.0    \n",
       "7  species two   3       2.0    \n",
       "8  species two   4       5.0    \n",
       "9  species three 1       1.5    \n",
       "10 species three 2       2.0    \n",
       "11 species three 3       6.0    \n",
       "12 species three 4       8.0    "
      ]
     },
     "metadata": {},
     "output_type": "display_data"
    }
   ],
   "source": [
    "bigdfChrSizeHolo"
   ]
  },
  {
   "cell_type": "markdown",
   "id": "c365c3ba",
   "metadata": {},
   "source": [
    "</div>\n",
    "\n",
    "<div class=\"verysmall\">"
   ]
  },
  {
   "cell_type": "markdown",
   "id": "39b4e840",
   "metadata": {},
   "source": [
    "* Mark characteristics, does not require OTU"
   ]
  },
  {
   "cell_type": "code",
   "execution_count": 14,
   "id": "ffd8869b",
   "metadata": {},
   "outputs": [
    {
     "data": {
      "text/html": [
       "<table class=\"dataframe\">\n",
       "<caption>A data.frame: 4 × 3</caption>\n",
       "<thead>\n",
       "\t<tr><th scope=col>markName</th><th scope=col>markColor</th><th scope=col>style</th></tr>\n",
       "\t<tr><th scope=col>&lt;chr&gt;</th><th scope=col>&lt;chr&gt;</th><th scope=col>&lt;chr&gt;</th></tr>\n",
       "</thead>\n",
       "<tbody>\n",
       "\t<tr><td>5S  </td><td>red           </td><td>dots  </td></tr>\n",
       "\t<tr><td>45S </td><td>chartreuse3   </td><td>square</td></tr>\n",
       "\t<tr><td>DAPI</td><td>blue          </td><td>square</td></tr>\n",
       "\t<tr><td>CMA </td><td>darkgoldenrod1</td><td>square</td></tr>\n",
       "</tbody>\n",
       "</table>\n"
      ],
      "text/latex": [
       "A data.frame: 4 × 3\n",
       "\\begin{tabular}{lll}\n",
       " markName & markColor & style\\\\\n",
       " <chr> & <chr> & <chr>\\\\\n",
       "\\hline\n",
       "\t 5S   & red            & dots  \\\\\n",
       "\t 45S  & chartreuse3    & square\\\\\n",
       "\t DAPI & blue           & square\\\\\n",
       "\t CMA  & darkgoldenrod1 & square\\\\\n",
       "\\end{tabular}\n"
      ],
      "text/markdown": [
       "\n",
       "A data.frame: 4 × 3\n",
       "\n",
       "| markName &lt;chr&gt; | markColor &lt;chr&gt; | style &lt;chr&gt; |\n",
       "|---|---|---|\n",
       "| 5S   | red            | dots   |\n",
       "| 45S  | chartreuse3    | square |\n",
       "| DAPI | blue           | square |\n",
       "| CMA  | darkgoldenrod1 | square |\n",
       "\n"
      ],
      "text/plain": [
       "  markName markColor      style \n",
       "1 5S       red            dots  \n",
       "2 45S      chartreuse3    square\n",
       "3 DAPI     blue           square\n",
       "4 CMA      darkgoldenrod1 square"
      ]
     },
     "metadata": {},
     "output_type": "display_data"
    }
   ],
   "source": [
    "dfMarkColor"
   ]
  },
  {
   "cell_type": "markdown",
   "id": "3d672966",
   "metadata": {},
   "source": [
    "</div>\n",
    "\n",
    "<div class=\"verysmall\">"
   ]
  },
  {
   "cell_type": "markdown",
   "id": "ee3ac153",
   "metadata": {},
   "source": [
    "</div>\n",
    "\n",
    "* Mark position\n",
    "\n",
    "<div class=\"pre-scrollx\">"
   ]
  },
  {
   "cell_type": "code",
   "execution_count": 15,
   "id": "13e2bb52",
   "metadata": {},
   "outputs": [
    {
     "data": {
      "text/html": [
       "<table class=\"dataframe\">\n",
       "<caption>A data.frame: 6 × 5</caption>\n",
       "<thead>\n",
       "\t<tr><th scope=col>OTU</th><th scope=col>chrName</th><th scope=col>markName</th><th scope=col>markPos</th><th scope=col>markSize</th></tr>\n",
       "\t<tr><th scope=col>&lt;chr&gt;</th><th scope=col>&lt;dbl&gt;</th><th scope=col>&lt;chr&gt;</th><th scope=col>&lt;dbl&gt;</th><th scope=col>&lt;dbl&gt;</th></tr>\n",
       "</thead>\n",
       "<tbody>\n",
       "\t<tr><td>species two</td><td>3</td><td>5S  </td><td>1.0</td><td>0.5</td></tr>\n",
       "\t<tr><td>species two</td><td>3</td><td>DAPI</td><td>2.0</td><td>0.5</td></tr>\n",
       "\t<tr><td>species two</td><td>1</td><td>45S </td><td>2.0</td><td>0.5</td></tr>\n",
       "\t<tr><td>species two</td><td>2</td><td>DAPI</td><td>2.0</td><td>0.5</td></tr>\n",
       "\t<tr><td>species two</td><td>4</td><td>CMA </td><td>2.0</td><td>0.5</td></tr>\n",
       "\t<tr><td>species two</td><td>4</td><td>5S  </td><td>0.5</td><td>0.5</td></tr>\n",
       "</tbody>\n",
       "</table>\n"
      ],
      "text/latex": [
       "A data.frame: 6 × 5\n",
       "\\begin{tabular}{lllll}\n",
       " OTU & chrName & markName & markPos & markSize\\\\\n",
       " <chr> & <dbl> & <chr> & <dbl> & <dbl>\\\\\n",
       "\\hline\n",
       "\t species two & 3 & 5S   & 1.0 & 0.5\\\\\n",
       "\t species two & 3 & DAPI & 2.0 & 0.5\\\\\n",
       "\t species two & 1 & 45S  & 2.0 & 0.5\\\\\n",
       "\t species two & 2 & DAPI & 2.0 & 0.5\\\\\n",
       "\t species two & 4 & CMA  & 2.0 & 0.5\\\\\n",
       "\t species two & 4 & 5S   & 0.5 & 0.5\\\\\n",
       "\\end{tabular}\n"
      ],
      "text/markdown": [
       "\n",
       "A data.frame: 6 × 5\n",
       "\n",
       "| OTU &lt;chr&gt; | chrName &lt;dbl&gt; | markName &lt;chr&gt; | markPos &lt;dbl&gt; | markSize &lt;dbl&gt; |\n",
       "|---|---|---|---|---|\n",
       "| species two | 3 | 5S   | 1.0 | 0.5 |\n",
       "| species two | 3 | DAPI | 2.0 | 0.5 |\n",
       "| species two | 1 | 45S  | 2.0 | 0.5 |\n",
       "| species two | 2 | DAPI | 2.0 | 0.5 |\n",
       "| species two | 4 | CMA  | 2.0 | 0.5 |\n",
       "| species two | 4 | 5S   | 0.5 | 0.5 |\n",
       "\n"
      ],
      "text/plain": [
       "  OTU         chrName markName markPos markSize\n",
       "1 species two 3       5S       1.0     0.5     \n",
       "2 species two 3       DAPI     2.0     0.5     \n",
       "3 species two 1       45S      2.0     0.5     \n",
       "4 species two 2       DAPI     2.0     0.5     \n",
       "5 species two 4       CMA      2.0     0.5     \n",
       "6 species two 4       5S       0.5     0.5     "
      ]
     },
     "metadata": {},
     "output_type": "display_data"
    }
   ],
   "source": [
    "bigdfMarkPosHolo"
   ]
  },
  {
   "cell_type": "markdown",
   "id": "2346d0d6",
   "metadata": {},
   "source": [
    "</div>\n",
    "\n",
    "<div class=\"verysmall\">"
   ]
  },
  {
   "cell_type": "markdown",
   "id": "d656c1af",
   "metadata": {},
   "source": [
    "### Plotting"
   ]
  },
  {
   "cell_type": "code",
   "execution_count": 17,
   "id": "8b2d595e",
   "metadata": {
    "attributes": {
     "classes": [],
     "echo": "TRUE,",
     "eval": "FALSE",
     "fig.height": "6,",
     "fig.width": "6,",
     "id": "",
     "message": "FALSE,dev='png',",
     "results": "\"hide\","
    }
   },
   "outputs": [
    {
     "data": {
      "image/png": "[encoded data removed]",
      "text/plain": [
       "plot without title"
      ]
     },
     "metadata": {
      "image/png": {
       "height": 312.5,
       "width": 312.5
      }
     },
     "output_type": "display_data"
    }
   ],
   "source": [
    "library(idiogramFISH)\n",
    "\n",
    "# fig.width=6, fig.height=6\n",
    "# png(\"bigdfChrSizeHolo.png\", width=600, height=600)\n",
    "par(mar=rep(0,4)) \n",
    "\n",
    "options(repr.plot.width = 500/80, repr.plot.height = 500/80, repr.plot.res = 100)\n",
    "suppressMessages(\n",
    "plotIdiograms(dfChrSize=bigdfChrSizeHolo, # chr. size data.frame\n",
    "              dfMarkColor=dfMarkColor,    # df of mark style\n",
    "              dfMarkPos=bigdfMarkPosHolo, # df of marks' position\n",
    "              \n",
    "              markDistType=\"cen\",         # measure towards center of mark\n",
    "              squareness=6,               # vertices squareness of chr. and marks \n",
    "              \n",
    "              karHeiSpace = 4,            # karyotype height including spacing\n",
    "              karSepar=TRUE,              # reduce vertical space among karyotypes \n",
    "              amoSepar = 1,               # separation among karyotypes\n",
    "              distTextChr=.5,             # distance text to chr.\n",
    "              \n",
    "              legendWidth = 1             # width of legend labels\n",
    "              \n",
    "              ,chrId=\"simple\",            # numbering of chr., not using \"original\" name\n",
    "              \n",
    "              indexIdTextSize=.9,         # font size of chr names and indices\n",
    "              markLabelSize=.9,           # font size of legends\n",
    "              \n",
    "              rulerPos=0,                 # position of ruler\n",
    "              rulerNumberSize=.9,         # font size of ruler\n",
    "              ruler.tck= -.004,           # tick length and orient.\n",
    "              xPosRulerTitle = 3,         # position of ruler units (title)\n",
    "              \n",
    "              ylimBotMod=.4               # modify ylim bottom argument\n",
    "              ,xModifier = 50             # separation among chromatids\n",
    ")\n",
    ")\n",
    "#dev.off()"
   ]
  },
  {
   "cell_type": "markdown",
   "id": "505966eb",
   "metadata": {},
   "source": [
    "</div>"
   ]
  }
 ],
 "metadata": {
  "kernelspec": {
   "display_name": "R",
   "language": "R",
   "name": "ir"
  },
  "language_info": {
   "codemirror_mode": "r",
   "file_extension": ".r",
   "mimetype": "text/x-r-source",
   "name": "R",
   "pygments_lexer": "r",
   "version": "4.0.5"
  }
 },
 "nbformat": 4,
 "nbformat_minor": 5
}
