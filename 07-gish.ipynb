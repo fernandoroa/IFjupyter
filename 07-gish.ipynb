{
 "cells": [
  {
   "cell_type": "markdown",
   "id": "1f344696",
   "metadata": {},
   "source": [
    "### Notebook index\n",
    "\n",
    "[3 Minimal examples](03-minimal.ipynb)  \n",
    "[4 Plotting chromosomes](04-plotting.ipynb)   \n",
    "[5 Multiple OTUs](05-multiple.ipynb)    \n",
    "[6 Changing units](06-units.ipynb)  \n",
    "[7 GISH](07-gish.ipynb)  \n",
    "[8 Groups](08-groups.ipynb)  \n",
    "[9 Circular Plots](09-circular.ipynb)  \n",
    "[10 Plotting alongside phylogeny](10-phylogeny.ipynb)  \n",
    "[11 Citrus](11-citrushelp.ipynb)  \n",
    "[12 Human Karyotype](12-human.ipynb)  "
   ]
  },
  {
   "cell_type": "markdown",
   "id": "4706064e",
   "metadata": {},
   "source": [
    "# GISH"
   ]
  },
  {
   "cell_type": "code",
   "execution_count": null,
   "id": "abb81cf2-844f-49ce-a9eb-d8135d73dbf7",
   "metadata": {},
   "outputs": [],
   "source": [
    "# General jupyter instructions"
   ]
  },
  {
   "cell_type": "code",
   "execution_count": null,
   "id": "41149cc1",
   "metadata": {
    "jupyter": {
     "source_hidden": true
    },
    "tags": []
   },
   "outputs": [],
   "source": [
    "# press Ctrl + Enter to RUN active cell\n",
    "\n",
    "# SHOW keyboard shortcuts Ctrl + M then H (only jupyter notebooks and colab)\n",
    "\n",
    "# Ctrl + D (or X) DELETE a line of code\n",
    "\n",
    "# press Ctrl + M to escape from cell (opposite to ENTER)\n",
    "\n",
    "# then !\n",
    "# B to ADD cell below or A above\n",
    "# M to turn cell into MARKDOWN\n",
    "# O to toggle OUTPUT\n",
    "# D D to DELETE cell\n",
    "\n",
    "# If in jupyter-lab:\n",
    "# collapse cell clicking in the blue left bar\n",
    "# use the settings menu to use the dark theme"
   ]
  },
  {
   "cell_type": "code",
   "execution_count": null,
   "id": "7b7f1c19",
   "metadata": {},
   "outputs": [],
   "source": [
    "# install if necessary\n",
    "\n",
    "if (system.file(package = \"idiogramFISH\") == '') {\n",
    "  install.packages(\"idiogramFISH\")\n",
    "}\n",
    "\n",
    "library(idiogramFISH)"
   ]
  },
  {
   "cell_type": "markdown",
   "id": "97f3e62a",
   "metadata": {},
   "source": [
    "\n",
    "## GISH of monocentric chromosomes\n",
    "\n",
    "You need the data.frame of chr. sizes, and a d.f. of marks \n",
    "### Chr. sizes:"
   ]
  },
  {
   "cell_type": "code",
   "execution_count": 2,
   "id": "c15e036f",
   "metadata": {
    "attributes": {
     "classes": [],
     "comment": "NA,",
     "echo": "FALSE,",
     "id": "",
     "message": "F"
    }
   },
   "outputs": [
    {
     "data": {
      "text/html": [
       "<table class=\"dataframe\">\n",
       "<caption>A data.frame: 13 × 4</caption>\n",
       "<thead>\n",
       "\t<tr><th></th><th scope=col>OTU</th><th scope=col>chrName</th><th scope=col>shortArmSize</th><th scope=col>longArmSize</th></tr>\n",
       "\t<tr><th></th><th scope=col>&lt;fct&gt;</th><th scope=col>&lt;chr&gt;</th><th scope=col>&lt;dbl&gt;</th><th scope=col>&lt;dbl&gt;</th></tr>\n",
       "</thead>\n",
       "<tbody>\n",
       "\t<tr><th scope=row>1</th><td>Parental 1   </td><td>1</td><td>3.2</td><td>4</td></tr>\n",
       "\t<tr><th scope=row>2</th><td>Parental 1   </td><td>4</td><td>1.5</td><td>2</td></tr>\n",
       "\t<tr><th scope=row>3</th><td>Parental 1   </td><td>5</td><td>4.8</td><td>6</td></tr>\n",
       "\t<tr><th scope=row>4</th><td>Parental 1   </td><td>6</td><td>6.1</td><td>7</td></tr>\n",
       "\t<tr><th scope=row>8</th><td>Allopolyploid</td><td>1</td><td>3.2</td><td>4</td></tr>\n",
       "\t<tr><th scope=row>9</th><td>Allopolyploid</td><td>2</td><td>4.5</td><td>5</td></tr>\n",
       "\t<tr><th scope=row>10</th><td>Allopolyploid</td><td>3</td><td>2.0</td><td>3</td></tr>\n",
       "\t<tr><th scope=row>11</th><td>Allopolyploid</td><td>4</td><td>1.5</td><td>2</td></tr>\n",
       "\t<tr><th scope=row>12</th><td>Allopolyploid</td><td>5</td><td>4.8</td><td>6</td></tr>\n",
       "\t<tr><th scope=row>13</th><td>Allopolyploid</td><td>6</td><td>6.1</td><td>7</td></tr>\n",
       "\t<tr><th scope=row>5</th><td>Parental 2   </td><td>1</td><td>3.2</td><td>4</td></tr>\n",
       "\t<tr><th scope=row>6</th><td>Parental 2   </td><td>2</td><td>4.5</td><td>5</td></tr>\n",
       "\t<tr><th scope=row>7</th><td>Parental 2   </td><td>3</td><td>2.0</td><td>3</td></tr>\n",
       "</tbody>\n",
       "</table>\n"
      ],
      "text/latex": [
       "A data.frame: 13 × 4\n",
       "\\begin{tabular}{r|llll}\n",
       "  & OTU & chrName & shortArmSize & longArmSize\\\\\n",
       "  & <fct> & <chr> & <dbl> & <dbl>\\\\\n",
       "\\hline\n",
       "\t1 & Parental 1    & 1 & 3.2 & 4\\\\\n",
       "\t2 & Parental 1    & 4 & 1.5 & 2\\\\\n",
       "\t3 & Parental 1    & 5 & 4.8 & 6\\\\\n",
       "\t4 & Parental 1    & 6 & 6.1 & 7\\\\\n",
       "\t8 & Allopolyploid & 1 & 3.2 & 4\\\\\n",
       "\t9 & Allopolyploid & 2 & 4.5 & 5\\\\\n",
       "\t10 & Allopolyploid & 3 & 2.0 & 3\\\\\n",
       "\t11 & Allopolyploid & 4 & 1.5 & 2\\\\\n",
       "\t12 & Allopolyploid & 5 & 4.8 & 6\\\\\n",
       "\t13 & Allopolyploid & 6 & 6.1 & 7\\\\\n",
       "\t5 & Parental 2    & 1 & 3.2 & 4\\\\\n",
       "\t6 & Parental 2    & 2 & 4.5 & 5\\\\\n",
       "\t7 & Parental 2    & 3 & 2.0 & 3\\\\\n",
       "\\end{tabular}\n"
      ],
      "text/markdown": [
       "\n",
       "A data.frame: 13 × 4\n",
       "\n",
       "| <!--/--> | OTU &lt;fct&gt; | chrName &lt;chr&gt; | shortArmSize &lt;dbl&gt; | longArmSize &lt;dbl&gt; |\n",
       "|---|---|---|---|---|\n",
       "| 1 | Parental 1    | 1 | 3.2 | 4 |\n",
       "| 2 | Parental 1    | 4 | 1.5 | 2 |\n",
       "| 3 | Parental 1    | 5 | 4.8 | 6 |\n",
       "| 4 | Parental 1    | 6 | 6.1 | 7 |\n",
       "| 8 | Allopolyploid | 1 | 3.2 | 4 |\n",
       "| 9 | Allopolyploid | 2 | 4.5 | 5 |\n",
       "| 10 | Allopolyploid | 3 | 2.0 | 3 |\n",
       "| 11 | Allopolyploid | 4 | 1.5 | 2 |\n",
       "| 12 | Allopolyploid | 5 | 4.8 | 6 |\n",
       "| 13 | Allopolyploid | 6 | 6.1 | 7 |\n",
       "| 5 | Parental 2    | 1 | 3.2 | 4 |\n",
       "| 6 | Parental 2    | 2 | 4.5 | 5 |\n",
       "| 7 | Parental 2    | 3 | 2.0 | 3 |\n",
       "\n"
      ],
      "text/plain": [
       "   OTU           chrName shortArmSize longArmSize\n",
       "1  Parental 1    1       3.2          4          \n",
       "2  Parental 1    4       1.5          2          \n",
       "3  Parental 1    5       4.8          6          \n",
       "4  Parental 1    6       6.1          7          \n",
       "8  Allopolyploid 1       3.2          4          \n",
       "9  Allopolyploid 2       4.5          5          \n",
       "10 Allopolyploid 3       2.0          3          \n",
       "11 Allopolyploid 4       1.5          2          \n",
       "12 Allopolyploid 5       4.8          6          \n",
       "13 Allopolyploid 6       6.1          7          \n",
       "5  Parental 2    1       3.2          4          \n",
       "6  Parental 2    2       4.5          5          \n",
       "7  Parental 2    3       2.0          3          "
      ]
     },
     "metadata": {},
     "output_type": "display_data"
    }
   ],
   "source": [
    "parentalAndHybChrSize"
   ]
  },
  {
   "cell_type": "markdown",
   "id": "119a8f0d",
   "metadata": {},
   "source": [
    "</div>\n",
    "\n",
    "<div class=\"verysmall\">"
   ]
  },
  {
   "cell_type": "markdown",
   "id": "b81055b5",
   "metadata": {},
   "source": [
    "### Marks' positions data "
   ]
  },
  {
   "cell_type": "code",
   "execution_count": null,
   "id": "dd6ab9b0",
   "metadata": {
    "attributes": {
     "classes": [],
     "comment": "NA,",
     "echo": "FALSE",
     "id": ""
    }
   },
   "outputs": [],
   "source": [
    "dfAlloParentMarks"
   ]
  },
  {
   "cell_type": "markdown",
   "id": "3a05815f",
   "metadata": {},
   "source": [
    "</div>\n",
    "<div class=\"verysmall\">"
   ]
  },
  {
   "cell_type": "markdown",
   "id": "e40250d0",
   "metadata": {},
   "source": [
    "</div>"
   ]
  },
  {
   "cell_type": "code",
   "execution_count": 3,
   "id": "d51807d3",
   "metadata": {},
   "outputs": [
    {
     "data": {
      "text/html": [
       "<table class=\"dataframe\">\n",
       "<caption>A data.frame: 3 × 2</caption>\n",
       "<thead>\n",
       "\t<tr><th scope=col>OTU</th><th scope=col>note</th></tr>\n",
       "\t<tr><th scope=col>&lt;chr&gt;</th><th scope=col>&lt;chr&gt;</th></tr>\n",
       "</thead>\n",
       "<tbody>\n",
       "\t<tr><td>Parental 1   </td><td>Parental One </td></tr>\n",
       "\t<tr><td>Parental 2   </td><td>Parental Two </td></tr>\n",
       "\t<tr><td>Allopolyploid</td><td>Allopolyploid</td></tr>\n",
       "</tbody>\n",
       "</table>\n"
      ],
      "text/latex": [
       "A data.frame: 3 × 2\n",
       "\\begin{tabular}{ll}\n",
       " OTU & note\\\\\n",
       " <chr> & <chr>\\\\\n",
       "\\hline\n",
       "\t Parental 1    & Parental One \\\\\n",
       "\t Parental 2    & Parental Two \\\\\n",
       "\t Allopolyploid & Allopolyploid\\\\\n",
       "\\end{tabular}\n"
      ],
      "text/markdown": [
       "\n",
       "A data.frame: 3 × 2\n",
       "\n",
       "| OTU &lt;chr&gt; | note &lt;chr&gt; |\n",
       "|---|---|\n",
       "| Parental 1    | Parental One  |\n",
       "| Parental 2    | Parental Two  |\n",
       "| Allopolyploid | Allopolyploid |\n",
       "\n"
      ],
      "text/plain": [
       "  OTU           note         \n",
       "1 Parental 1    Parental One \n",
       "2 Parental 2    Parental Two \n",
       "3 Allopolyploid Allopolyploid"
      ]
     },
     "metadata": {},
     "output_type": "display_data"
    }
   ],
   "source": [
    "# We will use column note to add a note to the right of the karyotype of the \n",
    "# OTU in column OTU\n",
    "notesdf2<-read.table(text=\n",
    "\"           OTU                note\n",
    "\\\"Parental 1\\\"     \\\"Parental One\\\"  \n",
    "\\\"Parental 2\\\"     \\\"Parental Two\\\"  \n",
    "\\\"Allopolyploid\\\"  Allopolyploid  \", header=TRUE, stringsAsFactors=FALSE,fill=TRUE)\n",
    "notesdf2"
   ]
  },
  {
   "cell_type": "markdown",
   "id": "6f9026ab",
   "metadata": {},
   "source": [
    "### Plotting \n",
    "\n",
    "<div class=\"fold s\">"
   ]
  },
  {
   "cell_type": "code",
   "execution_count": 5,
   "id": "8394a894",
   "metadata": {
    "attributes": {
     "classes": [],
     "echo": "TRUE,",
     "fig.height": "11,",
     "fig.width": "9,",
     "id": "",
     "message": "FALSE,dev='png'",
     "results": "\"hide\","
    }
   },
   "outputs": [
    {
     "data": {
      "image/png": "[encoded data removed]",
      "text/plain": [
       "plot without title"
      ]
     },
     "metadata": {
      "image/png": {
       "height": 450,
       "width": 450
      }
     },
     "output_type": "display_data"
    }
   ],
   "source": [
    "# svg(\"gish.svg\",width=7,height=9 )\n",
    "#png(\"parentalAndHybChrSize.png\", width=700, height=900)\n",
    "\n",
    "# REORDER OTUs\n",
    "\n",
    "parentalAndHybChrSize$OTU<-factor(parentalAndHybChrSize$OTU,levels=c(\"Parental 1\", \"Allopolyploid\",\"Parental 2\") )\n",
    "\n",
    "parentalAndHybChrSize<-parentalAndHybChrSize[order(parentalAndHybChrSize$OTU),]\n",
    "\n",
    "par(mar=rep(0,4) )\n",
    "options(repr.plot.width = 9, repr.plot.height = 9, repr.plot.res = 100)\n",
    "suppressMessages(\n",
    "plotIdiograms(dfChrSize = parentalAndHybChrSize,  # d.f. of chr. sizes\n",
    "              dfMarkPos = dfAlloParentMarks,      # d.f. of marks' positions\n",
    "              cenColor  = NULL,            # no cen. color for GISH\n",
    "              \n",
    "              karHeiSpace=5,               # karyotype height including spacing\n",
    "              karSepar = FALSE,            # equally sized (height) karyotypes\n",
    "              \n",
    "              legend=\"\"                   # no legend\n",
    "              \n",
    "              ,notes=notesdf2              # data.frame with notes NEW\n",
    "              #,OTUasNote=TRUE             # TRY THIS (OTU name to the right)\n",
    "              ,notesTextSize = 1.3         # font size of notes\n",
    "              ,notesPosX = 1.5              # space from chr. (right) to note\n",
    "              ,ruler = FALSE       \n",
    "              \n",
    "              ,moveKarHor = \"Allopolyploid\"# OTU to move to the right\n",
    "              ,mkhValue = 7                # amount to move to right\n",
    "              ,anchor = TRUE               # show anchor for moveKarHor OTUs\n",
    "              ,moveAnchorV = 4             # modify anchor Vertical portion position\n",
    "              ,moveAnchorH = -1.5          # modify anchor Horizon. portion position  \n",
    "              \n",
    "              ,ylimBotMod = 1              # ylim bottom argument mod.\n",
    "              ,xlimRightMod = 4\n",
    ")\n",
    ")\n",
    "# dev.off()"
   ]
  },
  {
   "cell_type": "markdown",
   "id": "8ab840dc",
   "metadata": {},
   "source": [
    "## GISH of holocentric chromosomes\n",
    "\n",
    "You need the data.frame of chr. sizes, and a d.f. of marks \n",
    "\n",
    "### Chr. sizes: "
   ]
  },
  {
   "cell_type": "code",
   "execution_count": 6,
   "id": "38cf1da5",
   "metadata": {
    "attributes": {
     "classes": [],
     "comment": "NA,",
     "echo": "F",
     "id": ""
    }
   },
   "outputs": [
    {
     "data": {
      "text/html": [
       "<table class=\"dataframe\">\n",
       "<caption>A data.frame: 13 × 3</caption>\n",
       "<thead>\n",
       "\t<tr><th scope=col>OTU</th><th scope=col>chrName</th><th scope=col>chrSize</th></tr>\n",
       "\t<tr><th scope=col>&lt;chr&gt;</th><th scope=col>&lt;chr&gt;</th><th scope=col>&lt;dbl&gt;</th></tr>\n",
       "</thead>\n",
       "<tbody>\n",
       "\t<tr><td>Parental 1   </td><td>7</td><td>4</td></tr>\n",
       "\t<tr><td>Parental 1   </td><td>4</td><td>2</td></tr>\n",
       "\t<tr><td>Parental 1   </td><td>5</td><td>6</td></tr>\n",
       "\t<tr><td>Parental 1   </td><td>6</td><td>7</td></tr>\n",
       "\t<tr><td>Parental 2   </td><td>1</td><td>4</td></tr>\n",
       "\t<tr><td>Parental 2   </td><td>2</td><td>5</td></tr>\n",
       "\t<tr><td>Parental 2   </td><td>3</td><td>3</td></tr>\n",
       "\t<tr><td>Allopolyploid</td><td>7</td><td>4</td></tr>\n",
       "\t<tr><td>Allopolyploid</td><td>2</td><td>5</td></tr>\n",
       "\t<tr><td>Allopolyploid</td><td>3</td><td>3</td></tr>\n",
       "\t<tr><td>Allopolyploid</td><td>4</td><td>2</td></tr>\n",
       "\t<tr><td>Allopolyploid</td><td>5</td><td>6</td></tr>\n",
       "\t<tr><td>Allopolyploid</td><td>6</td><td>7</td></tr>\n",
       "</tbody>\n",
       "</table>\n"
      ],
      "text/latex": [
       "A data.frame: 13 × 3\n",
       "\\begin{tabular}{lll}\n",
       " OTU & chrName & chrSize\\\\\n",
       " <chr> & <chr> & <dbl>\\\\\n",
       "\\hline\n",
       "\t Parental 1    & 7 & 4\\\\\n",
       "\t Parental 1    & 4 & 2\\\\\n",
       "\t Parental 1    & 5 & 6\\\\\n",
       "\t Parental 1    & 6 & 7\\\\\n",
       "\t Parental 2    & 1 & 4\\\\\n",
       "\t Parental 2    & 2 & 5\\\\\n",
       "\t Parental 2    & 3 & 3\\\\\n",
       "\t Allopolyploid & 7 & 4\\\\\n",
       "\t Allopolyploid & 2 & 5\\\\\n",
       "\t Allopolyploid & 3 & 3\\\\\n",
       "\t Allopolyploid & 4 & 2\\\\\n",
       "\t Allopolyploid & 5 & 6\\\\\n",
       "\t Allopolyploid & 6 & 7\\\\\n",
       "\\end{tabular}\n"
      ],
      "text/markdown": [
       "\n",
       "A data.frame: 13 × 3\n",
       "\n",
       "| OTU &lt;chr&gt; | chrName &lt;chr&gt; | chrSize &lt;dbl&gt; |\n",
       "|---|---|---|\n",
       "| Parental 1    | 7 | 4 |\n",
       "| Parental 1    | 4 | 2 |\n",
       "| Parental 1    | 5 | 6 |\n",
       "| Parental 1    | 6 | 7 |\n",
       "| Parental 2    | 1 | 4 |\n",
       "| Parental 2    | 2 | 5 |\n",
       "| Parental 2    | 3 | 3 |\n",
       "| Allopolyploid | 7 | 4 |\n",
       "| Allopolyploid | 2 | 5 |\n",
       "| Allopolyploid | 3 | 3 |\n",
       "| Allopolyploid | 4 | 2 |\n",
       "| Allopolyploid | 5 | 6 |\n",
       "| Allopolyploid | 6 | 7 |\n",
       "\n"
      ],
      "text/plain": [
       "   OTU           chrName chrSize\n",
       "1  Parental 1    7       4      \n",
       "2  Parental 1    4       2      \n",
       "3  Parental 1    5       6      \n",
       "4  Parental 1    6       7      \n",
       "5  Parental 2    1       4      \n",
       "6  Parental 2    2       5      \n",
       "7  Parental 2    3       3      \n",
       "8  Allopolyploid 7       4      \n",
       "9  Allopolyploid 2       5      \n",
       "10 Allopolyploid 3       3      \n",
       "11 Allopolyploid 4       2      \n",
       "12 Allopolyploid 5       6      \n",
       "13 Allopolyploid 6       7      "
      ]
     },
     "metadata": {},
     "output_type": "display_data"
    }
   ],
   "source": [
    "parentalAndHybHoloChrSize"
   ]
  },
  {
   "cell_type": "markdown",
   "id": "b15710bd",
   "metadata": {},
   "source": [
    "</div>\n",
    "<div class=\"verysmall\">"
   ]
  },
  {
   "cell_type": "markdown",
   "id": "a4e422de",
   "metadata": {},
   "source": [
    "### Marks' positions data \n"
   ]
  },
  {
   "cell_type": "code",
   "execution_count": 7,
   "id": "d378f779",
   "metadata": {
    "attributes": {
     "classes": [],
     "comment": "NA,",
     "echo": "F",
     "id": ""
    },
    "scrolled": true
   },
   "outputs": [
    {
     "data": {
      "text/html": [
       "<table class=\"dataframe\">\n",
       "<caption>A data.frame: 13 × 4</caption>\n",
       "<thead>\n",
       "\t<tr><th></th><th scope=col>OTU</th><th scope=col>chrName</th><th scope=col>markName</th><th scope=col>chrRegion</th></tr>\n",
       "\t<tr><th></th><th scope=col>&lt;chr&gt;</th><th scope=col>&lt;dbl&gt;</th><th scope=col>&lt;fct&gt;</th><th scope=col>&lt;fct&gt;</th></tr>\n",
       "</thead>\n",
       "<tbody>\n",
       "\t<tr><th scope=row>1</th><td>Allopolyploid</td><td>7</td><td>Parental 1</td><td>w</td></tr>\n",
       "\t<tr><th scope=row>4</th><td>Allopolyploid</td><td>2</td><td>Parental 2</td><td>w</td></tr>\n",
       "\t<tr><th scope=row>5</th><td>Allopolyploid</td><td>3</td><td>Parental 2</td><td>w</td></tr>\n",
       "\t<tr><th scope=row>6</th><td>Allopolyploid</td><td>4</td><td>Parental 1</td><td>w</td></tr>\n",
       "\t<tr><th scope=row>7</th><td>Allopolyploid</td><td>5</td><td>Parental 1</td><td>w</td></tr>\n",
       "\t<tr><th scope=row>8</th><td>Allopolyploid</td><td>6</td><td>Parental 1</td><td>w</td></tr>\n",
       "\t<tr><th scope=row>9</th><td>Parental 1   </td><td>6</td><td>Parental 1</td><td>w</td></tr>\n",
       "\t<tr><th scope=row>10</th><td>Parental 1   </td><td>5</td><td>Parental 1</td><td>w</td></tr>\n",
       "\t<tr><th scope=row>11</th><td>Parental 1   </td><td>7</td><td>Parental 1</td><td>w</td></tr>\n",
       "\t<tr><th scope=row>12</th><td>Parental 1   </td><td>4</td><td>Parental 1</td><td>w</td></tr>\n",
       "\t<tr><th scope=row>13</th><td>Parental 2   </td><td>2</td><td>Parental 2</td><td>w</td></tr>\n",
       "\t<tr><th scope=row>14</th><td>Parental 2   </td><td>1</td><td>Parental 2</td><td>w</td></tr>\n",
       "\t<tr><th scope=row>15</th><td>Parental 2   </td><td>3</td><td>Parental 2</td><td>w</td></tr>\n",
       "</tbody>\n",
       "</table>\n"
      ],
      "text/latex": [
       "A data.frame: 13 × 4\n",
       "\\begin{tabular}{r|llll}\n",
       "  & OTU & chrName & markName & chrRegion\\\\\n",
       "  & <chr> & <dbl> & <fct> & <fct>\\\\\n",
       "\\hline\n",
       "\t1 & Allopolyploid & 7 & Parental 1 & w\\\\\n",
       "\t4 & Allopolyploid & 2 & Parental 2 & w\\\\\n",
       "\t5 & Allopolyploid & 3 & Parental 2 & w\\\\\n",
       "\t6 & Allopolyploid & 4 & Parental 1 & w\\\\\n",
       "\t7 & Allopolyploid & 5 & Parental 1 & w\\\\\n",
       "\t8 & Allopolyploid & 6 & Parental 1 & w\\\\\n",
       "\t9 & Parental 1    & 6 & Parental 1 & w\\\\\n",
       "\t10 & Parental 1    & 5 & Parental 1 & w\\\\\n",
       "\t11 & Parental 1    & 7 & Parental 1 & w\\\\\n",
       "\t12 & Parental 1    & 4 & Parental 1 & w\\\\\n",
       "\t13 & Parental 2    & 2 & Parental 2 & w\\\\\n",
       "\t14 & Parental 2    & 1 & Parental 2 & w\\\\\n",
       "\t15 & Parental 2    & 3 & Parental 2 & w\\\\\n",
       "\\end{tabular}\n"
      ],
      "text/markdown": [
       "\n",
       "A data.frame: 13 × 4\n",
       "\n",
       "| <!--/--> | OTU &lt;chr&gt; | chrName &lt;dbl&gt; | markName &lt;fct&gt; | chrRegion &lt;fct&gt; |\n",
       "|---|---|---|---|---|\n",
       "| 1 | Allopolyploid | 7 | Parental 1 | w |\n",
       "| 4 | Allopolyploid | 2 | Parental 2 | w |\n",
       "| 5 | Allopolyploid | 3 | Parental 2 | w |\n",
       "| 6 | Allopolyploid | 4 | Parental 1 | w |\n",
       "| 7 | Allopolyploid | 5 | Parental 1 | w |\n",
       "| 8 | Allopolyploid | 6 | Parental 1 | w |\n",
       "| 9 | Parental 1    | 6 | Parental 1 | w |\n",
       "| 10 | Parental 1    | 5 | Parental 1 | w |\n",
       "| 11 | Parental 1    | 7 | Parental 1 | w |\n",
       "| 12 | Parental 1    | 4 | Parental 1 | w |\n",
       "| 13 | Parental 2    | 2 | Parental 2 | w |\n",
       "| 14 | Parental 2    | 1 | Parental 2 | w |\n",
       "| 15 | Parental 2    | 3 | Parental 2 | w |\n",
       "\n"
      ],
      "text/plain": [
       "   OTU           chrName markName   chrRegion\n",
       "1  Allopolyploid 7       Parental 1 w        \n",
       "4  Allopolyploid 2       Parental 2 w        \n",
       "5  Allopolyploid 3       Parental 2 w        \n",
       "6  Allopolyploid 4       Parental 1 w        \n",
       "7  Allopolyploid 5       Parental 1 w        \n",
       "8  Allopolyploid 6       Parental 1 w        \n",
       "9  Parental 1    6       Parental 1 w        \n",
       "10 Parental 1    5       Parental 1 w        \n",
       "11 Parental 1    7       Parental 1 w        \n",
       "12 Parental 1    4       Parental 1 w        \n",
       "13 Parental 2    2       Parental 2 w        \n",
       "14 Parental 2    1       Parental 2 w        \n",
       "15 Parental 2    3       Parental 2 w        "
      ]
     },
     "metadata": {},
     "output_type": "display_data"
    }
   ],
   "source": [
    "dfAlloParentMarksHolo"
   ]
  },
  {
   "cell_type": "markdown",
   "id": "d5361b88",
   "metadata": {},
   "source": [
    "</div>\n",
    "\n",
    "<div class=\"verysmall\">"
   ]
  },
  {
   "cell_type": "markdown",
   "id": "aca29d6b",
   "metadata": {},
   "source": [
    "### Plotting"
   ]
  },
  {
   "cell_type": "code",
   "execution_count": 8,
   "id": "1162b735",
   "metadata": {
    "attributes": {
     "classes": [],
     "echo": "TRUE,",
     "fig.height": "7,",
     "fig.width": "8,",
     "id": "",
     "message": "FALSE,dev='png'",
     "results": "\"hide\","
    }
   },
   "outputs": [
    {
     "data": {
      "image/png": "[encoded data removed]",
      "text/plain": [
       "plot without title"
      ]
     },
     "metadata": {
      "image/png": {
       "height": 350,
       "width": 400
      }
     },
     "output_type": "display_data"
    }
   ],
   "source": [
    "\n",
    "# svg(\"gish.svg\",width=8,height=7 )\n",
    "par(mar=c(0,0,0,0)) \n",
    "\n",
    "options(repr.plot.width = 8, repr.plot.height = 7, repr.plot.res = 100)\n",
    "suppressMessages(\n",
    "plotIdiograms(dfChrSize = parentalAndHybHoloChrSize,  # d.f. of chr. sizes\n",
    "              dfMarkPos = dfAlloParentMarksHolo,      # d.f. of marks' positions\n",
    "              chrColor  = \"gray\",          # chr. color\n",
    "              cenColor  = NULL,            # cen. color when GISH\n",
    "              \n",
    "              karHeight = 3,               # karyotype height without spacing\n",
    "              karHeiSpace=5,               # karyotype height including spacing\n",
    "              distTextChr = 0.8            # separation among chr. and text\n",
    "              \n",
    "              ,ruler=FALSE                 # no ruler\n",
    "              ,legend=\"\"                   # no legend\n",
    "              \n",
    "              ,xlimRightMod = 0            # xlim right arg. modif.\n",
    "              ,xModifier = 100              # separ. among chromatids\n",
    ")\n",
    ")\n",
    "# dev.off()"
   ]
  },
  {
   "cell_type": "markdown",
   "id": "263828b7",
   "metadata": {},
   "source": [
    "## GISH of *Citrus* as Yasuda et al. [-@Yasuda2010]\n",
    "\n",
    "For more details on the use of *Citrus* functions go to chapter *Citrus*\n",
    "\n",
    "Parental *C. schweinfurthii*: 14D + 4F (using Guerra nomenclature).\n"
   ]
  },
  {
   "cell_type": "code",
   "execution_count": 9,
   "id": "60445f00",
   "metadata": {
    "attributes": {
     "classes": [],
     "echo": "TRUE,",
     "fig.height": "7,",
     "fig.width": "8,",
     "id": "",
     "message": "FALSE,dev='png'",
     "results": "\"hide\","
    }
   },
   "outputs": [
    {
     "name": "stderr",
     "output_type": "stream",
     "text": [
      "\u001b[32mBy default 5S are plotted as dots, to change this behavior make your own dfMarkColor data.frame\u001b[39m\n",
      "\n"
     ]
    }
   ],
   "source": [
    "{\n",
    "#\n",
    "# c. schweinfurthii chr sizes d.f.\n",
    "#\n",
    "\n",
    "cschweinformula<-\"14D + 4F\"\n",
    "require(idiogramFISH)\n",
    "\n",
    "citrusschwein <- citrusSize(D=14,\n",
    "                            F=4 \n",
    "                            ,OTU=\"C. schweinfurthii\"\n",
    "                            ,longArm=1.2)\n",
    "\n",
    "#\n",
    "# c. schweinfurthii CMA and GISH marks\n",
    "#\n",
    "\n",
    "citrusschweinMarkPosDF <- citrusMarkPos(citrusschwein)\n",
    "\n",
    "#\n",
    "#   data.frame of genomic marks\n",
    "#\n",
    "citrusschweinMarkPosDF2 <- data.frame(chrName=c(paste0(\"D_\",1:7),paste0(\"F_\",1:2)),\n",
    "                                    chrRegion=\"w\"\n",
    "                                    ,markName=\"schweingenome\"\n",
    "                                    ,OTU=unique(citrusschwein$OTU)\n",
    ")\n",
    "\n",
    "#\n",
    "#   merge marks pos.\n",
    "#\n",
    "\n",
    "citrusschweinMarkPosDF <- dplyr::bind_rows(citrusschweinMarkPosDF2,citrusschweinMarkPosDF)\n",
    "\n",
    "#\n",
    "#   Inversion of some chr. (D marks up)\n",
    "#\n",
    "\n",
    "csSwap <- swapChrRegionDfSizeAndMarks(citrusschwein,citrusschweinMarkPosDF,c(paste0(\"D_\",1:14) ) )\n",
    "citrusschwein         <- csSwap$dfChrSize\n",
    "citrusschweinMarkPosDF<- csSwap$dfMarkPos\n",
    "\n",
    "#\n",
    "#   mark style\n",
    "#\n",
    "\n",
    "unique(citrusschweinMarkPosDF$markName)\n",
    "{\n",
    "  markStyleschweinDF   <- makedfMarkColorMycolors(\n",
    "    unique(citrusschweinMarkPosDF$markName), c(\"chartreuse3\",\"darkgoldenrod1\") )\n",
    "}\n",
    "\n",
    "#\n",
    "#   d.f. of notes\n",
    "#\n",
    "\n",
    "leftNotesschwein  <- data.frame(OTU=unique(citrusschwein$OTU), note= paste0(\"Female gamete: 7D + 2E\" ) )\n",
    "leftNotesschweinUp<- data.frame(OTU=unique(citrusschwein$OTU)\n",
    "                                , note= paste0(unique(citrusschwein$OTU),\" (\",cschweinformula,\")\" ) )\n",
    "notesschwein<- data.frame(OTU=unique(citrusschwein$OTU), note= \"Yasuda et al. (2010)\" )\n",
    "}"
   ]
  },
  {
   "cell_type": "markdown",
   "id": "e8757dd5",
   "metadata": {},
   "source": [
    "Parental 'Nanpu' tangor\n"
   ]
  },
  {
   "cell_type": "code",
   "execution_count": 10,
   "id": "5b2a089d",
   "metadata": {
    "attributes": {
     "classes": [],
     "echo": "TRUE,",
     "fig.height": "7,",
     "fig.width": "8,",
     "id": "",
     "message": "FALSE,dev='png'",
     "results": "\"hide\","
    }
   },
   "outputs": [
    {
     "name": "stderr",
     "output_type": "stream",
     "text": [
      "\u001b[32mBy default 5S are plotted as dots, to change this behavior make your own dfMarkColor data.frame\u001b[39m\n",
      "\n"
     ]
    }
   ],
   "source": [
    "\n",
    "{\n",
    "  \n",
    "cnanpuformula<-\"1A + 4C + 5D + 8F\" # Guerra nom.\n",
    "\n",
    "#\n",
    "# 'Nanpu' tangor chr. sizes\n",
    "#\n",
    "\n",
    "citrusnanpu <- citrusSize(A=1,C=4,D=5,F=8 # \n",
    "                            ,OTU=\"nanpu tangor\"\n",
    "                            ,longArm=1.2)\n",
    "#\n",
    "# c. nanpu CMA marks\n",
    "#\n",
    "\n",
    "citrusnanpuMarkPosDF <- citrusMarkPos(citrusnanpu)\n",
    "\n",
    "#\n",
    "#   d.f. of genomic marks\n",
    "#\n",
    "\n",
    "citrusnanpuMarkPosDF2 <- data.frame(chrName = c(\"A\",\"C_1\",paste0(\"D_\",1:4), paste0(\"F_\",1:3) ),\n",
    "                                    chrRegion=\"w\"\n",
    "                                    ,markName=\"nanpugenome\"\n",
    "                                    ,OTU=unique(citrusnanpu$OTU)\n",
    ")\n",
    "\n",
    "#\n",
    "#   merge marks pos.\n",
    "#\n",
    "\n",
    "citrusnanpuMarkPosDF <- dplyr::bind_rows(citrusnanpuMarkPosDF2,citrusnanpuMarkPosDF)\n",
    "\n",
    "#\n",
    "#   mark style d.f.\n",
    "#\n",
    "\n",
    "unique(citrusnanpuMarkPosDF$markName)\n",
    "{\n",
    "  markStylenanpuDF   <- makedfMarkColorMycolors(\n",
    "    unique(citrusnanpuMarkPosDF$markName), c(\"chocolate\",\"darkgoldenrod1\") )\n",
    "}\n",
    "\n",
    "#\n",
    "#   invert some chr.\n",
    "#\n",
    "\n",
    "csSwap<-swapChrRegionDfSizeAndMarks(citrusnanpu,citrusnanpuMarkPosDF,c(paste0(\"D_\",1:5) ) )\n",
    "citrusnanpu          <- csSwap$dfChrSize\n",
    "citrusnanpuMarkPosDF <- csSwap$dfMarkPos\n",
    "\n",
    "#\n",
    "#   notes data.frames\n",
    "#\n",
    "\n",
    "leftNotesnanpu  <- data.frame(OTU=unique(citrusnanpu$OTU), note= paste0(\"Male gamete: 1A + 1C + 4D + 3E\" ) )\n",
    "leftNotesnanpuUp<- data.frame(OTU=unique(citrusnanpu$OTU), note= paste0(\"'Nanpu' tangor (\",cnanpuformula,\")\" ) )\n",
    "\n",
    "notesnanpu<- data.frame(OTU=unique(citrusnanpu$OTU), note= \"Yasuda et al. (2010)\" )\n",
    "\n",
    "}"
   ]
  },
  {
   "cell_type": "markdown",
   "id": "2a8089ee",
   "metadata": {},
   "source": [
    "</div>\n",
    "\n",
    "Merge data.frames from parentals"
   ]
  },
  {
   "cell_type": "code",
   "execution_count": 11,
   "id": "c56d960e",
   "metadata": {
    "attributes": {
     "classes": [],
     "echo": "TRUE,",
     "fig.height": "7,",
     "fig.width": "8,",
     "id": "",
     "message": "FALSE,dev='png'",
     "results": "\"hide\","
    }
   },
   "outputs": [],
   "source": [
    "{ \n",
    "bothParentalsChr   <- dplyr::bind_rows(citrusschwein, citrusnanpu)\n",
    "\n",
    "bothParentalsMarks <- dplyr::bind_rows(citrusschweinMarkPosDF, citrusnanpuMarkPosDF)\n",
    "\n",
    "bothPmarkStyle     <- unique(dplyr::bind_rows(markStyleschweinDF, markStylenanpuDF) )\n",
    "\n",
    "bothPleftNotesUp   <- dplyr::bind_rows(leftNotesschweinUp,leftNotesnanpuUp)\n",
    "\n",
    "bothPleftNotes     <- dplyr::bind_rows(leftNotesschwein,leftNotesnanpu)\n",
    "}\n"
   ]
  },
  {
   "cell_type": "markdown",
   "id": "1b222997",
   "metadata": {},
   "source": [
    "data.frames of the hybrid"
   ]
  },
  {
   "cell_type": "code",
   "execution_count": 12,
   "id": "27d2c645",
   "metadata": {},
   "outputs": [
    {
     "name": "stderr",
     "output_type": "stream",
     "text": [
      "\u001b[32mBy default 5S are plotted as dots, to change this behavior make your own dfMarkColor data.frame\u001b[39m\n",
      "\n"
     ]
    }
   ],
   "source": [
    "{\n",
    "cschnanpuformula<-\"1A + 1C + 11D + 5F\"\n",
    "\n",
    "require(idiogramFISH)\n",
    "\n",
    "#\n",
    "#   hybrid chr. size\n",
    "#\n",
    "\n",
    "citrusschnanpu <- citrusSize(A=1,C=1,D=11,F=5 # \n",
    "                          ,OTU=\"schweinfurthii + nanpu\"\n",
    "                          ,longArm=1.2)\n",
    "#\n",
    "# hybrid CMA marks\n",
    "#\n",
    "\n",
    "citrusschnanpuMarkPosDF <- citrusMarkPos(citrusschnanpu)\n",
    "\n",
    "#\n",
    "#    invert some chr.\n",
    "#\n",
    "\n",
    "csSwap<-swapChrRegionDfSizeAndMarks(citrusschnanpu,citrusschnanpuMarkPosDF,c(paste0(\"D_\",1:11) ) )\n",
    "citrusschnanpu         <- csSwap$dfChrSize\n",
    "citrusschnanpuMarkPosDF<- csSwap$dfMarkPos\n",
    "\n",
    "#\n",
    "#   d.f. of gish marks\n",
    "#\n",
    "\n",
    "citrusschnanpuMarkPosDF2 <- data.frame(chrName=c(paste0(\"D_\",5:11), paste0(\"F_\",1:2) ),\n",
    "                                    chrRegion=\"w\"\n",
    "                                    ,markName=\"schweingenome\"\n",
    "                                    ,OTU=unique(citrusschnanpu$OTU)\n",
    ")\n",
    "\n",
    "citrusschnanpuMarkPosDF3 <- data.frame(chrName=c(\"A\",\"C\",paste0(\"D_\",1:4), paste0(\"F_\",3:5) ),\n",
    "                                       chrRegion=\"w\"\n",
    "                                       ,markName=\"nanpugenome\"\n",
    "                                       ,OTU=unique(citrusschnanpu$OTU)\n",
    ")\n",
    "\n",
    "#\n",
    "#   merge marks\n",
    "#\n",
    "\n",
    "citrusschnanpuMarkPosDF <- dplyr::bind_rows(citrusschnanpuMarkPosDF2,citrusschnanpuMarkPosDF3,citrusschnanpuMarkPosDF)\n",
    "\n",
    "#\n",
    "#   style of marks d.f.\n",
    "#\n",
    "\n",
    "unique(citrusschnanpuMarkPosDF$markName)\n",
    "{\n",
    "  markStyleschnanpuDF   <- makedfMarkColorMycolors(\n",
    "    unique(citrusschnanpuMarkPosDF$markName), c(\"chartreuse3\",\"chocolate\",\"darkgoldenrod1\") )\n",
    "}\n",
    "\n",
    "#\n",
    "#   notes for hybrid\n",
    "#\n",
    "                         # italics!       #  rest: \\\"                 to                           \\\"      \n",
    "name <-  paste0(\"italic('C. schweinfurthii'),      \\\" × 'Nanpu' tangor (CN3) (\", cschnanpuformula,\")\\\"\" ) \n",
    "# to parse italics, use parseStr2lang = TRUE\n",
    "\n",
    "leftNotesschnanpuUp <- data.frame(OTU=unique(citrusschnanpu$OTU), note= name  )\n",
    "notesschnanpu       <- data.frame(OTU=unique(citrusschnanpu$OTU), note= \"'Yasuda et al. (2010)'\" )\n",
    "}"
   ]
  },
  {
   "cell_type": "markdown",
   "id": "f53e28ac",
   "metadata": {},
   "source": [
    "</div>\n",
    "\n",
    "Plot\n",
    "\n",
    "<div class=\"fold s\">"
   ]
  },
  {
   "cell_type": "code",
   "execution_count": 15,
   "id": "7313f6c9",
   "metadata": {
    "attributes": {
     "classes": [],
     "echo": "TRUE,",
     "fig.height": "7,",
     "fig.width": "12,",
     "id": "",
     "message": "FALSE,dev='png'",
     "results": "\"hide\","
    }
   },
   "outputs": [
    {
     "data": {
      "image/png": "[encoded data removed]",
      "text/plain": [
       "plot without title"
      ]
     },
     "metadata": {
      "image/png": {
       "height": 450,
       "width": 750
      }
     },
     "output_type": "display_data"
    }
   ],
   "source": [
    "\n",
    "#\n",
    "#   plot of parentals only\n",
    "#\n",
    "\n",
    "{\n",
    "par(mar=rep(0,4), oma=rep(0,4) ) \n",
    "\n",
    "options(repr.plot.width = 15, repr.plot.height = 9, repr.plot.res = 100)\n",
    "suppressMessages(\n",
    "plotIdiograms(callPlot=T,\n",
    "              dfChrSize= bothParentalsChr,   # chr. size data.frame\n",
    "              dfMarkPos= bothParentalsMarks, # mark position data.frame \n",
    "              dfMarkColor=bothPmarkStyle,    # mark style d.f.\n",
    "              \n",
    "              orderChr = \"original\"   # order of chr. as in d.f.\n",
    "              \n",
    "              ,chrWidth = .5          # chr. width\n",
    "              ,chrSpacing=.5          # separ. among chr.\n",
    "              ,karHeight=4            # kar. height\n",
    "              ,karHeiSpace=5          # anchor height\n",
    "              \n",
    "              ,chromatids = FALSE     # don't use chromatids\n",
    "              ,chrColor= \"white\"      # chr. color\n",
    "              \n",
    "              ,ruler=FALSE            # don't use ruler\n",
    "              ,chrId=\"\"               # don't use chr. name\n",
    "              ,chrIndex = \"\"          # don't use chr. indices\n",
    "              ,morpho=\"\"              # don't use morphology\n",
    "              ,karIndex = FALSE       # don't use kar. indices\n",
    "              ,colorBorderMark=\"black\"# color of border of marks\n",
    "              ,addOTUName = F         # do not add OTU names\n",
    "              \n",
    "              ,lwd.chr = 1.6          # border width\n",
    "              ,lwd.marks=1            # border width marks\n",
    "              ,gishCenBorder=T        # cen. border of gish as mark color\n",
    "              ,hideCenLines=1.75      # hide cen. border\n",
    "              \n",
    "              ,legend=\"\"              # no legend for marks\n",
    "              \n",
    "              ,leftNotes  =  bothPleftNotes   # data.frame with left notes\n",
    "              ,leftNotesUp=  bothPleftNotesUp # data.frame with Up left notes\n",
    "              ,leftNoteFontUp =3      # italics\n",
    "              ,notesTextSize = 1.3    # font size of notes\n",
    "              ,leftNotesPosX = 0      # horizontal pos. of notes\n",
    "              ,leftNotesPosY = 0      # vertical pos. of left down notes\n",
    "              ,leftNotesUpPosY = 2    # vertical pos. of left up notes\n",
    "              \n",
    "              ,verticalPlot=FALSE     # horizontal plot\n",
    "              ,karSpaceHor=3          # horizontal spacing among kar.\n",
    "              \n",
    "              ,karAnchorLeft = \"C. schweinfurthii\" # anchor to the left of\n",
    "              ,anchor=TRUE            # add anchor\n",
    "              \n",
    "              ,ylimBotMod = 1         # modify ylim bottom argument\n",
    "              ,ylimTopMod = 0         # modify ylim top argument\n",
    "              ,xlimLeftMod =0         # modify left xlim\n",
    "              ,xlimRightMod = 2       # modify right xlim\n",
    "              \n",
    ")\n",
    ")\n",
    "}\n",
    "\n",
    "#  add plot of hybrid over parents plot\n",
    "\n",
    "{\n",
    "suppressMessages(\n",
    "    plotIdiograms(callPlot=FALSE,                     # plot over previous plot\n",
    "                  dfChrSize= citrusschnanpu,          # chr. size data.frame\n",
    "                  dfMarkPos= citrusschnanpuMarkPosDF, # mark position data.frame \n",
    "                  dfMarkColor=markStyleschnanpuDF,    # mark style d.f.\n",
    "                  \n",
    "                  orderChr = \"original\",  # order of chr. as in d.f.\n",
    "                  \n",
    "                  chrWidth = .5,          # chr. width\n",
    "                  chrSpacing=.5,          # separ. among chr.\n",
    "                  karHeight=4             # kar. height \n",
    "                  ,chromatids = FALSE     # don't use chromatids\n",
    "                  ,chrColor= \"white\"      # chr. color\n",
    "                  \n",
    "                  ,ruler=FALSE            # don't use ruler\n",
    "                  ,chrId=\"\"               # don't use chr. name\n",
    "                  ,chrIndex = \"\"          # don't use chr. indices\n",
    "                  ,morpho=\"\"              # don't use morphology\n",
    "                  ,karIndex = FALSE       # don't use kar. indices\n",
    "                  ,colorBorderMark=\"black\"# color of border of marks\n",
    "                  ,addOTUName=F           # don't add OTU name\n",
    "                  \n",
    "                  ,lwd.chr = 1.6          # border width\n",
    "                  ,lwd.marks=1            # border width marks\n",
    "                  \n",
    "                  ,leftNotesUp = leftNotesschnanpuUp # up notes: name of hybrid\n",
    "                  ,parseStr2lang = TRUE   # for italics, see notes data.frame\n",
    "                  ,notesTextSize = 1.3    # font size of notes\n",
    "                  ,leftNotesPosX = 0      # horizontal pos. of notes\n",
    "                  ,leftNotesUpPosY = 2    # vertical pos. left up notes\n",
    "                  ,notes = notesschnanpu  # right notes - authors\n",
    "                  ,notesPosX=3            # notes hor. pos\n",
    "                  \n",
    "                  ,ylimBotMod = 1         # modify ylim bottom argument\n",
    "                  ,ylimTopMod = -5        # modify ylim top argument\n",
    "                  ,xlimLeftMod = 0        # modify left xlim\n",
    "                  ,xlimRightMod = 2       # modify right xlim\n",
    "                  \n",
    "                  ,gishCenBorder=T        # cen. border as mark color\n",
    "                  ,legend=\"\"              # no legend for marks\n",
    "                  ,hideCenLines=1.75      # hide cen. lines\n",
    "                  ,moveAllKarValueHor=9.5 # move kar. to right\n",
    "                  ,moveAllKarValueY =-10  # move kar. down\n",
    "    )\n",
    "    )\n",
    "  } # hybrid\n"
   ]
  }
 ],
 "metadata": {
  "kernelspec": {
   "display_name": "R",
   "language": "R",
   "name": "ir"
  },
  "language_info": {
   "codemirror_mode": "r",
   "file_extension": ".r",
   "mimetype": "text/x-r-source",
   "name": "R",
   "pygments_lexer": "r",
   "version": "4.0.5"
  }
 },
 "nbformat": 4,
 "nbformat_minor": 5
}
