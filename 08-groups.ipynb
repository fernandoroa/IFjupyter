{
 "cells": [
  {
   "cell_type": "markdown",
   "id": "d35135aa-d369-42af-b089-9ec5758231be",
   "metadata": {},
   "source": [
    "### Notebook index\n",
    "\n",
    "[3 Minimal examples](03-minimal.ipynb)  \n",
    "[4 Plotting chromosomes](04-plotting.ipynb)   \n",
    "[5 Multiple OTUs](05-multiple.ipynb)    \n",
    "[6 Changing units](06-units.ipynb)  \n",
    "[7 GISH](07-gish.ipynb)  \n",
    "[8 Groups](08-groups.ipynb)  \n",
    "[9 Circular Plots](09-circular.ipynb)  \n",
    "[10 Plotting alongside phylogeny](10-phylogeny.ipynb)  \n",
    "[11 Citrus](11-citrushelp.ipynb)  \n",
    "[12 Human Karyotype](12-human.ipynb)  "
   ]
  },
  {
   "cell_type": "markdown",
   "id": "b8df326e",
   "metadata": {},
   "source": [
    "# Groups"
   ]
  },
  {
   "cell_type": "code",
   "execution_count": 1,
   "id": "712b46b8-3664-4143-ac76-fda25d26cb2e",
   "metadata": {
    "vscode": {
     "languageId": "r"
    }
   },
   "outputs": [],
   "source": [
    "# General jupyter instructions"
   ]
  },
  {
   "cell_type": "code",
   "execution_count": 2,
   "id": "74e6eb5d-3ca4-48b2-910e-74b9202ec2d4",
   "metadata": {
    "jupyter": {
     "source_hidden": true
    },
    "tags": [],
    "vscode": {
     "languageId": "r"
    }
   },
   "outputs": [],
   "source": [
    "# press Ctrl + Enter to RUN active cell\n",
    "\n",
    "# SHOW keyboard shortcuts Ctrl + M then H (only jupyter notebooks and colab)\n",
    "\n",
    "# Ctrl + D (or X) DELETE a line of code\n",
    "\n",
    "# press Ctrl + M to escape from cell (opposite to ENTER)\n",
    "\n",
    "# then !\n",
    "# B to ADD cell below or A above\n",
    "# M to turn code cell into MARKDOWN\n",
    "# Y turn markdown to CODE\n",
    "# O to toggle OUTPUT\n",
    "# D D to DELETE cell\n",
    "\n",
    "# If in jupyter-lab:\n",
    "# collapse cell clicking in the blue left bar\n",
    "# use the settings menu to use the dark theme\n",
    "\n",
    "# if in colab:\n",
    "# remove bar at 80 in tools, preferences, 80 -> 0"
   ]
  },
  {
   "cell_type": "code",
   "execution_count": 3,
   "id": "0f61d0f9-f67d-4a75-9ad6-448e927b2e2b",
   "metadata": {
    "vscode": {
     "languageId": "r"
    }
   },
   "outputs": [
    {
     "name": "stderr",
     "output_type": "stream",
     "text": [
      "version 2.0.6 See help: ?idiogramFISH - browseVignettes('idiogramFISH') - https://ferroao.gitlab.io/manualidiogramfish\n",
      "\n"
     ]
    }
   ],
   "source": [
    "# install if necessary\n",
    "\n",
    "if (system.file(package = \"idiogramFISH\") == '') {\n",
    "  install.packages(\"idiogramFISH\")\n",
    "}\n",
    "\n",
    "library(idiogramFISH)"
   ]
  },
  {
   "cell_type": "markdown",
   "id": "f78c5714-1268-48e5-9fe1-d9382c97b1ab",
   "metadata": {},
   "source": [
    "## monocentrics\n",
    "\n",
    "### Adding the column `group`\n",
    "\n",
    "Open your chromosome data - Chr. size - as data.frame and add column"
   ]
  },
  {
   "cell_type": "code",
   "execution_count": 4,
   "id": "f32ff8b4",
   "metadata": {
    "vscode": {
     "languageId": "r"
    }
   },
   "outputs": [
    {
     "data": {
      "text/html": [
       "<table class=\"dataframe\">\n",
       "<caption>A data.frame: 6 × 4</caption>\n",
       "<thead>\n",
       "\t<tr><th></th><th scope=col>chrName</th><th scope=col>shortArmSize</th><th scope=col>longArmSize</th><th scope=col>group</th></tr>\n",
       "\t<tr><th></th><th scope=col>&lt;chr&gt;</th><th scope=col>&lt;dbl&gt;</th><th scope=col>&lt;dbl&gt;</th><th scope=col>&lt;int&gt;</th></tr>\n",
       "</thead>\n",
       "<tbody>\n",
       "\t<tr><th scope=row>1</th><td>1</td><td>3.0</td><td>5.0</td><td> 1</td></tr>\n",
       "\t<tr><th scope=row>2</th><td>1</td><td>3.2</td><td>5.5</td><td> 1</td></tr>\n",
       "\t<tr><th scope=row>3</th><td>1</td><td>3.5</td><td>4.8</td><td> 1</td></tr>\n",
       "\t<tr><th scope=row>4</th><td>4</td><td>1.0</td><td>3.0</td><td>NA</td></tr>\n",
       "\t<tr><th scope=row>5</th><td>5</td><td>3.0</td><td>5.0</td><td>NA</td></tr>\n",
       "\t<tr><th scope=row>6</th><td>X</td><td>4.0</td><td>6.0</td><td>NA</td></tr>\n",
       "</tbody>\n",
       "</table>\n"
      ],
      "text/latex": [
       "A data.frame: 6 × 4\n",
       "\\begin{tabular}{r|llll}\n",
       "  & chrName & shortArmSize & longArmSize & group\\\\\n",
       "  & <chr> & <dbl> & <dbl> & <int>\\\\\n",
       "\\hline\n",
       "\t1 & 1 & 3.0 & 5.0 &  1\\\\\n",
       "\t2 & 1 & 3.2 & 5.5 &  1\\\\\n",
       "\t3 & 1 & 3.5 & 4.8 &  1\\\\\n",
       "\t4 & 4 & 1.0 & 3.0 & NA\\\\\n",
       "\t5 & 5 & 3.0 & 5.0 & NA\\\\\n",
       "\t6 & X & 4.0 & 6.0 & NA\\\\\n",
       "\\end{tabular}\n"
      ],
      "text/markdown": [
       "\n",
       "A data.frame: 6 × 4\n",
       "\n",
       "| <!--/--> | chrName &lt;chr&gt; | shortArmSize &lt;dbl&gt; | longArmSize &lt;dbl&gt; | group &lt;int&gt; |\n",
       "|---|---|---|---|---|\n",
       "| 1 | 1 | 3.0 | 5.0 |  1 |\n",
       "| 2 | 1 | 3.2 | 5.5 |  1 |\n",
       "| 3 | 1 | 3.5 | 4.8 |  1 |\n",
       "| 4 | 4 | 1.0 | 3.0 | NA |\n",
       "| 5 | 5 | 3.0 | 5.0 | NA |\n",
       "| 6 | X | 4.0 | 6.0 | NA |\n",
       "\n"
      ],
      "text/plain": [
       "  chrName shortArmSize longArmSize group\n",
       "1 1       3.0          5.0          1   \n",
       "2 1       3.2          5.5          1   \n",
       "3 1       3.5          4.8          1   \n",
       "4 4       1.0          3.0         NA   \n",
       "5 5       3.0          5.0         NA   \n",
       "6 X       4.0          6.0         NA   "
      ]
     },
     "metadata": {},
     "output_type": "display_data"
    }
   ],
   "source": [
    "# Example data.frame written in R, use\n",
    "dfwithgroups <-read.table(text=\"\n",
    "      chrName shortArmSize longArmSize group\n",
    "1        1            3           5     1\n",
    "2        1            3.2         5.5   1\n",
    "3        1            3.5         4.8   1\n",
    "4        4            1           3     NA\n",
    "5        5            3           5     NA\n",
    "6        X            4           6     NA\", header=TRUE, stringsAsFactors=F)\n",
    "dfwithgroups        "
   ]
  },
  {
   "cell_type": "markdown",
   "id": "0d0d82a4",
   "metadata": {},
   "source": [
    "</div>\n",
    "<div class=\"verysmall\">"
   ]
  },
  {
   "cell_type": "markdown",
   "id": "d4e3e872",
   "metadata": {},
   "source": [
    "### Heteromorphic pairs\n",
    "\n",
    "It can be used to plot heteromorphic pairs, see pair 1"
   ]
  },
  {
   "cell_type": "code",
   "execution_count": 5,
   "id": "6cdc912f",
   "metadata": {
    "vscode": {
     "languageId": "r"
    }
   },
   "outputs": [
    {
     "data": {
      "text/html": [
       "<table class=\"dataframe\">\n",
       "<caption>A data.frame: 5 × 4</caption>\n",
       "<thead>\n",
       "\t<tr><th></th><th scope=col>chrName</th><th scope=col>shortArmSize</th><th scope=col>longArmSize</th><th scope=col>group</th></tr>\n",
       "\t<tr><th></th><th scope=col>&lt;chr&gt;</th><th scope=col>&lt;int&gt;</th><th scope=col>&lt;int&gt;</th><th scope=col>&lt;int&gt;</th></tr>\n",
       "</thead>\n",
       "<tbody>\n",
       "\t<tr><th scope=row>1</th><td>1A</td><td>3</td><td>5</td><td> 1</td></tr>\n",
       "\t<tr><th scope=row>2</th><td>1B</td><td>3</td><td>5</td><td> 1</td></tr>\n",
       "\t<tr><th scope=row>4</th><td>2 </td><td>1</td><td>3</td><td>NA</td></tr>\n",
       "\t<tr><th scope=row>5</th><td>3 </td><td>3</td><td>5</td><td>NA</td></tr>\n",
       "\t<tr><th scope=row>6</th><td>4 </td><td>4</td><td>6</td><td>NA</td></tr>\n",
       "</tbody>\n",
       "</table>\n"
      ],
      "text/latex": [
       "A data.frame: 5 × 4\n",
       "\\begin{tabular}{r|llll}\n",
       "  & chrName & shortArmSize & longArmSize & group\\\\\n",
       "  & <chr> & <int> & <int> & <int>\\\\\n",
       "\\hline\n",
       "\t1 & 1A & 3 & 5 &  1\\\\\n",
       "\t2 & 1B & 3 & 5 &  1\\\\\n",
       "\t4 & 2  & 1 & 3 & NA\\\\\n",
       "\t5 & 3  & 3 & 5 & NA\\\\\n",
       "\t6 & 4  & 4 & 6 & NA\\\\\n",
       "\\end{tabular}\n"
      ],
      "text/markdown": [
       "\n",
       "A data.frame: 5 × 4\n",
       "\n",
       "| <!--/--> | chrName &lt;chr&gt; | shortArmSize &lt;int&gt; | longArmSize &lt;int&gt; | group &lt;int&gt; |\n",
       "|---|---|---|---|---|\n",
       "| 1 | 1A | 3 | 5 |  1 |\n",
       "| 2 | 1B | 3 | 5 |  1 |\n",
       "| 4 | 2  | 1 | 3 | NA |\n",
       "| 5 | 3  | 3 | 5 | NA |\n",
       "| 6 | 4  | 4 | 6 | NA |\n",
       "\n"
      ],
      "text/plain": [
       "  chrName shortArmSize longArmSize group\n",
       "1 1A      3            5            1   \n",
       "2 1B      3            5            1   \n",
       "4 2       1            3           NA   \n",
       "5 3       3            5           NA   \n",
       "6 4       4            6           NA   "
      ]
     },
     "metadata": {},
     "output_type": "display_data"
    }
   ],
   "source": [
    "dfwithHetero<-read.table(text=\"\n",
    "       chrName shortArmSize longArmSize group\n",
    "1        1A           3           5     1\n",
    "2        1B           3           5     1\n",
    "4        2            1           3     NA\n",
    "5        3            3           5     NA\n",
    "6        4            4           6     NA\", header=TRUE, stringsAsFactors=FALSE)\n",
    "dfwithHetero"
   ]
  },
  {
   "cell_type": "markdown",
   "id": "32775d21",
   "metadata": {},
   "source": [
    "</div>\n",
    "<div class=\"verysmall\">"
   ]
  },
  {
   "cell_type": "markdown",
   "id": "f911b460",
   "metadata": {},
   "source": [
    "</div>\n",
    "\n",
    "Open or write your mark positions as a data.frame. This data.frame has the marks present in all karyotypes with position info.\n",
    "<div class=\"fold s\">"
   ]
  },
  {
   "cell_type": "code",
   "execution_count": 6,
   "id": "a3f9ecef",
   "metadata": {
    "vscode": {
     "languageId": "r"
    }
   },
   "outputs": [
    {
     "data": {
      "text/html": [
       "<table class=\"dataframe\">\n",
       "<caption>A data.frame: 4 × 5</caption>\n",
       "<thead>\n",
       "\t<tr><th></th><th scope=col>chrName</th><th scope=col>markName</th><th scope=col>chrRegion</th><th scope=col>markSize</th><th scope=col>markDistCen</th></tr>\n",
       "\t<tr><th></th><th scope=col>&lt;chr&gt;</th><th scope=col>&lt;chr&gt;</th><th scope=col>&lt;chr&gt;</th><th scope=col>&lt;int&gt;</th><th scope=col>&lt;dbl&gt;</th></tr>\n",
       "</thead>\n",
       "<tbody>\n",
       "\t<tr><th scope=row>1</th><td>1A</td><td>5S  </td><td>p</td><td>1</td><td>0.9</td></tr>\n",
       "\t<tr><th scope=row>2</th><td>1B</td><td>45S </td><td>p</td><td>1</td><td>0.9</td></tr>\n",
       "\t<tr><th scope=row>3</th><td>2 </td><td>CMA </td><td>q</td><td>1</td><td>1.0</td></tr>\n",
       "\t<tr><th scope=row>4</th><td>3 </td><td>DAPI</td><td>q</td><td>1</td><td>1.0</td></tr>\n",
       "</tbody>\n",
       "</table>\n"
      ],
      "text/latex": [
       "A data.frame: 4 × 5\n",
       "\\begin{tabular}{r|lllll}\n",
       "  & chrName & markName & chrRegion & markSize & markDistCen\\\\\n",
       "  & <chr> & <chr> & <chr> & <int> & <dbl>\\\\\n",
       "\\hline\n",
       "\t1 & 1A & 5S   & p & 1 & 0.9\\\\\n",
       "\t2 & 1B & 45S  & p & 1 & 0.9\\\\\n",
       "\t3 & 2  & CMA  & q & 1 & 1.0\\\\\n",
       "\t4 & 3  & DAPI & q & 1 & 1.0\\\\\n",
       "\\end{tabular}\n"
      ],
      "text/markdown": [
       "\n",
       "A data.frame: 4 × 5\n",
       "\n",
       "| <!--/--> | chrName &lt;chr&gt; | markName &lt;chr&gt; | chrRegion &lt;chr&gt; | markSize &lt;int&gt; | markDistCen &lt;dbl&gt; |\n",
       "|---|---|---|---|---|---|\n",
       "| 1 | 1A | 5S   | p | 1 | 0.9 |\n",
       "| 2 | 1B | 45S  | p | 1 | 0.9 |\n",
       "| 3 | 2  | CMA  | q | 1 | 1.0 |\n",
       "| 4 | 3  | DAPI | q | 1 | 1.0 |\n",
       "\n"
      ],
      "text/plain": [
       "  chrName markName chrRegion markSize markDistCen\n",
       "1 1A      5S       p         1        0.9        \n",
       "2 1B      45S      p         1        0.9        \n",
       "3 2       CMA      q         1        1.0        \n",
       "4 3       DAPI     q         1        1.0        "
      ]
     },
     "metadata": {},
     "output_type": "display_data"
    }
   ],
   "source": [
    "dfOfMarksHetero<-read.table(text=\n",
    "\"     chrName markName chrRegion markSize markDistCen\n",
    "1       1A       5S       p        1         0.9\n",
    "2       1B      45S       p        1         0.9\n",
    "3       2       CMA       q        1         1.0\n",
    "4       3      DAPI       q        1         1.0\", header=TRUE, stringsAsFactors=FALSE)\n",
    "dfOfMarksHetero"
   ]
  },
  {
   "cell_type": "markdown",
   "id": "10e20555",
   "metadata": {},
   "source": [
    "</div>\n",
    "<div class=\"verysmall\">"
   ]
  },
  {
   "cell_type": "markdown",
   "id": "2f5bfffc",
   "metadata": {},
   "source": [
    "</div>\n",
    "\n",
    "Plot\n",
    "\n",
    "<div class=\"fold s\">"
   ]
  },
  {
   "cell_type": "code",
   "execution_count": 7,
   "id": "596167d0",
   "metadata": {
    "attributes": {
     "classes": [],
     "dev": "'png'",
     "echo": "TRUE,",
     "fig.height": "8,",
     "fig.width": "13.5,",
     "id": "",
     "message": "FALSE,",
     "results": "\"hide\","
    },
    "vscode": {
     "languageId": "r"
    }
   },
   "outputs": [
    {
     "data": {
      "image/png": "[encoded data removed]",
      "text/plain": [
       "plot without title"
      ]
     },
     "metadata": {
      "image/png": {
       "height": 400,
       "width": 675
      }
     },
     "output_type": "display_data"
    }
   ],
   "source": [
    "require(idiogramFISH)\n",
    "# svg(\"dfwithHetero.svg\",width=13.5,height=8 )\n",
    "par(mar=rep(0,4)) \n",
    "\n",
    "dfwithHetero$OTU<-\"hetero\"\n",
    "dfwithgroups$OTU<-\"first\"\n",
    "both<-plyr::rbind.fill(dfwithHetero,dfwithgroups)\n",
    "dfOfMarksHetero$OTU<-\"hetero\"\n",
    "\n",
    "options(repr.plot.width = 13.5, repr.plot.height = 8, repr.plot.res = 100)\n",
    "suppressMessages(\n",
    "plotIdiograms(dfChrSize=both,    # chr. sizes\n",
    "              dfMarkPos=dfOfMarksHetero, # position of marks\n",
    "              karHeiSpace = 4,\n",
    "              \n",
    "              chrId=\"original\",          # chr. name in df.\n",
    "              chrIndex = \"\",             # do not add chr. indices\n",
    "              morpho=\"\",                 # do not add chr. morphologies  \n",
    "              karIndex = FALSE,          # do not add karyotype indices\n",
    "              distTextChr = .8,          # distance from text to chr.\n",
    "              \n",
    "              markDistType=\"cen\",        # mark position measured to center of mark\n",
    "              orderChr = \"name\",       # order chr. by name\n",
    "              \n",
    "              ruler=FALSE                # do not plot ruler\n",
    "              \n",
    "              ,ylimBotMod = 1            # modify ylim bottom argument\n",
    "              ,legendWidth = 1           # width of legend\n",
    ")\n",
    ")\n",
    "# dev.off()"
   ]
  },
  {
   "cell_type": "markdown",
   "id": "e73a1825",
   "metadata": {},
   "source": [
    "</div>"
   ]
  },
  {
   "cell_type": "markdown",
   "id": "3b9efccd",
   "metadata": {},
   "source": [
    "## Holocentrics\n",
    "\n",
    "Let's modify some data.frames to add a group\n"
   ]
  },
  {
   "cell_type": "code",
   "execution_count": 8,
   "id": "fdae85a7",
   "metadata": {
    "attributes": {
     "classes": [],
     "echo": "TRUE,",
     "fig.height": "4.5,",
     "fig.width": "7,",
     "id": "",
     "message": "FALSE,dev='png'",
     "results": "\"hide\","
    },
    "vscode": {
     "languageId": "r"
    }
   },
   "outputs": [],
   "source": [
    "data(\"dfChrSizeHolo\")\n",
    "data(\"dfMarkPosHolo\")\n",
    "dfMarkPosHoloHetero<-dfMarkPosHolo\n",
    "dfMarkPosHoloHetero$chrName<-c(3,3,\"1A\",2,\"1B\",\"1B\")\n",
    "dfMarkPosHoloHetero$OTU<-\"heteromorphic\"\n",
    "\n",
    "dfChrSizeHoloHetero<-dfChrSizeHolo\n",
    "dfChrSizeHoloHetero$chrName<-c(\"1A\",\"1B\",2,3)\n",
    "dfChrSizeHoloHetero$OTU<-\"heteromorphic\"\n",
    "\n",
    "# Adding the group column\n",
    "dfChrSizeHoloHetero$group<-c(1,1,NA,NA)"
   ]
  },
  {
   "cell_type": "markdown",
   "id": "7bb76edf",
   "metadata": {},
   "source": [
    "### Creating a new data.frame for holocentrics"
   ]
  },
  {
   "cell_type": "code",
   "execution_count": 9,
   "id": "60211f33",
   "metadata": {
    "vscode": {
     "languageId": "r"
    }
   },
   "outputs": [
    {
     "data": {
      "text/html": [
       "<table class=\"dataframe\">\n",
       "<caption>A data.frame: 7 × 4</caption>\n",
       "<thead>\n",
       "\t<tr><th scope=col>OTU</th><th scope=col>chrName</th><th scope=col>chrSize</th><th scope=col>group</th></tr>\n",
       "\t<tr><th scope=col>&lt;chr&gt;</th><th scope=col>&lt;dbl&gt;</th><th scope=col>&lt;dbl&gt;</th><th scope=col>&lt;dbl&gt;</th></tr>\n",
       "</thead>\n",
       "<tbody>\n",
       "\t<tr><td>Species name</td><td>1</td><td>3.1</td><td> 1</td></tr>\n",
       "\t<tr><td>Species name</td><td>1</td><td>3.2</td><td> 1</td></tr>\n",
       "\t<tr><td>Species name</td><td>1</td><td>3.3</td><td> 1</td></tr>\n",
       "\t<tr><td>Species name</td><td>1</td><td>3.4</td><td> 1</td></tr>\n",
       "\t<tr><td>Species name</td><td>2</td><td>4.0</td><td>NA</td></tr>\n",
       "\t<tr><td>Species name</td><td>3</td><td>5.0</td><td>NA</td></tr>\n",
       "\t<tr><td>Species name</td><td>4</td><td>6.0</td><td>NA</td></tr>\n",
       "</tbody>\n",
       "</table>\n"
      ],
      "text/latex": [
       "A data.frame: 7 × 4\n",
       "\\begin{tabular}{llll}\n",
       " OTU & chrName & chrSize & group\\\\\n",
       " <chr> & <dbl> & <dbl> & <dbl>\\\\\n",
       "\\hline\n",
       "\t Species name & 1 & 3.1 &  1\\\\\n",
       "\t Species name & 1 & 3.2 &  1\\\\\n",
       "\t Species name & 1 & 3.3 &  1\\\\\n",
       "\t Species name & 1 & 3.4 &  1\\\\\n",
       "\t Species name & 2 & 4.0 & NA\\\\\n",
       "\t Species name & 3 & 5.0 & NA\\\\\n",
       "\t Species name & 4 & 6.0 & NA\\\\\n",
       "\\end{tabular}\n"
      ],
      "text/markdown": [
       "\n",
       "A data.frame: 7 × 4\n",
       "\n",
       "| OTU &lt;chr&gt; | chrName &lt;dbl&gt; | chrSize &lt;dbl&gt; | group &lt;dbl&gt; |\n",
       "|---|---|---|---|\n",
       "| Species name | 1 | 3.1 |  1 |\n",
       "| Species name | 1 | 3.2 |  1 |\n",
       "| Species name | 1 | 3.3 |  1 |\n",
       "| Species name | 1 | 3.4 |  1 |\n",
       "| Species name | 2 | 4.0 | NA |\n",
       "| Species name | 3 | 5.0 | NA |\n",
       "| Species name | 4 | 6.0 | NA |\n",
       "\n"
      ],
      "text/plain": [
       "  OTU          chrName chrSize group\n",
       "1 Species name 1       3.1      1   \n",
       "2 Species name 1       3.2      1   \n",
       "3 Species name 1       3.3      1   \n",
       "4 Species name 1       3.4      1   \n",
       "5 Species name 2       4.0     NA   \n",
       "6 Species name 3       5.0     NA   \n",
       "7 Species name 4       6.0     NA   "
      ]
     },
     "metadata": {},
     "output_type": "display_data"
    }
   ],
   "source": [
    "dfChrSizeHoloGroup <- data.frame(OTU=\"Species name\", \n",
    "                                  chrName = c(1, 1, 1, 1, 2, 3, 4), \n",
    "                                  chrSize = c(3.1, 3.2, 3.3, 3.4, 4, 5, 6), \n",
    "                                  group = c(1, 1, 1, 1, NA, NA, NA) \n",
    "                                )\n",
    "dfChrSizeHoloGroup"
   ]
  },
  {
   "cell_type": "markdown",
   "id": "49b8ffbe",
   "metadata": {},
   "source": [
    "</div>\n",
    "<div class=\"verysmall\">"
   ]
  },
  {
   "cell_type": "markdown",
   "id": "d56d14ea",
   "metadata": {},
   "source": [
    "</div>\n",
    "\n",
    "<div class=\"fold s\">"
   ]
  },
  {
   "cell_type": "code",
   "execution_count": 10,
   "id": "2dede0c8",
   "metadata": {
    "attributes": {
     "classes": [],
     "echo": "TRUE,",
     "fig.height": "4.5,",
     "fig.width": "7,",
     "id": "",
     "message": "FALSE,dev='png'",
     "results": "\"hide\","
    },
    "vscode": {
     "languageId": "r"
    }
   },
   "outputs": [
    {
     "data": {
      "image/png": "[encoded data removed]",
      "text/plain": [
       "plot without title"
      ]
     },
     "metadata": {
      "image/png": {
       "height": 400,
       "width": 675
      }
     },
     "output_type": "display_data"
    }
   ],
   "source": [
    "par(mar=rep(0,4)) \n",
    "mergedChrSize<-plyr::rbind.fill(dfChrSizeHoloGroup,dfChrSizeHoloHetero)\n",
    "\n",
    "options(repr.plot.width = 13.5, repr.plot.height = 8, repr.plot.res = 100)\n",
    "suppressMessages(\n",
    "plotIdiograms(dfChrSize=mergedChrSize,      # data.frame of chr. sizes\n",
    "              dfMarkPos=dfMarkPosHoloHetero,# d.f. of marks\n",
    "              orderChr = \"name\",            # order chr. by name\n",
    "              karIndex = FALSE,             # do not add karyotype indices\n",
    "              addOTUName = TRUE,            # add OTU name\n",
    "              karHeiSpace = 4,              # height of kar. with spacing\n",
    "              \n",
    "              ruler=FALSE,                  # no ruler\n",
    "              \n",
    "              xlimLeftMod=-1,               # modify left argument of xlim\n",
    "              xlimRightMod=0,               # modify right argument of xlim\n",
    "              ylimBotMod=1.3                # modify bottom argument of ylim\n",
    "              ,xModifier = 100              # separ. among chromatids\n",
    ")\n",
    ")"
   ]
  }
 ],
 "metadata": {
  "kernelspec": {
   "display_name": "R",
   "language": "R",
   "name": "ir"
  },
  "language_info": {
   "codemirror_mode": "r",
   "file_extension": ".r",
   "mimetype": "text/x-r-source",
   "name": "R",
   "pygments_lexer": "r",
   "version": "4.1.1"
  }
 },
 "nbformat": 4,
 "nbformat_minor": 5
}
